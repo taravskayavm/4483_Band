{
  "cells": [
    {
      "cell_type": "markdown",
      "metadata": {
        "id": "view-in-github",
        "colab_type": "text"
      },
      "source": [
        "<a href=\"https://colab.research.google.com/github/taravskayavm/4483_Band/blob/main/Mental_Health_Dataset.ipynb\" target=\"_parent\"><img src=\"https://colab.research.google.com/assets/colab-badge.svg\" alt=\"Open In Colab\"/></a>"
      ]
    },
    {
      "cell_type": "markdown",
      "id": "04b8b320-73b6-44f2-b325-b02e643d2c25",
      "metadata": {
        "id": "04b8b320-73b6-44f2-b325-b02e643d2c25"
      },
      "source": [
        "ДЗ 5\n",
        "\n",
        "Проведите разведочный анализ данных на датасете с kaggle.com"
      ]
    },
    {
      "cell_type": "code",
      "execution_count": 17,
      "id": "17275f90-39aa-4ba4-9aa3-d1904b7ba1d3",
      "metadata": {
        "id": "17275f90-39aa-4ba4-9aa3-d1904b7ba1d3"
      },
      "outputs": [],
      "source": [
        "import pandas as pd"
      ]
    },
    {
      "cell_type": "code",
      "execution_count": 18,
      "id": "0c4a69ad-d380-4ad7-8652-e1bb60e85bbd",
      "metadata": {
        "id": "0c4a69ad-d380-4ad7-8652-e1bb60e85bbd"
      },
      "outputs": [],
      "source": [
        "import numpy as np"
      ]
    },
    {
      "cell_type": "code",
      "execution_count": 19,
      "id": "0e041863-e2d4-4628-84c2-acb0baadd978",
      "metadata": {
        "id": "0e041863-e2d4-4628-84c2-acb0baadd978"
      },
      "outputs": [],
      "source": [
        "import matplotlib.pyplot as plt"
      ]
    },
    {
      "cell_type": "code",
      "execution_count": 20,
      "id": "88587c74-ccec-4bf7-b27e-9eb199ade639",
      "metadata": {
        "id": "88587c74-ccec-4bf7-b27e-9eb199ade639"
      },
      "outputs": [],
      "source": [
        "import seaborn as sns"
      ]
    },
    {
      "cell_type": "code",
      "execution_count": 21,
      "id": "a6b4402b-e53a-419f-a0cd-41bc19ea2bfc",
      "metadata": {
        "id": "a6b4402b-e53a-419f-a0cd-41bc19ea2bfc"
      },
      "outputs": [],
      "source": [
        "plt.rcParams['axes.grid'] = True"
      ]
    },
    {
      "cell_type": "code",
      "execution_count": 22,
      "id": "148b866f-5a6b-493d-ad21-252d091de9ac",
      "metadata": {
        "id": "148b866f-5a6b-493d-ad21-252d091de9ac"
      },
      "outputs": [],
      "source": [
        "df = pd.read_csv('/content/Mental Health Dataset.csv')"
      ]
    },
    {
      "cell_type": "code",
      "source": [
        "from google.colab import drive\n",
        "drive.mount('/content/drive')"
      ],
      "metadata": {
        "id": "KLz9xtH1K3rq",
        "colab": {
          "base_uri": "https://localhost:8080/"
        },
        "outputId": "6d893377-3b84-484d-fd2f-7ed948e3e2c9"
      },
      "id": "KLz9xtH1K3rq",
      "execution_count": 23,
      "outputs": [
        {
          "output_type": "stream",
          "name": "stdout",
          "text": [
            "Drive already mounted at /content/drive; to attempt to forcibly remount, call drive.mount(\"/content/drive\", force_remount=True).\n"
          ]
        }
      ]
    },
    {
      "cell_type": "code",
      "execution_count": 24,
      "id": "59ec9c7c-fb87-477e-9c23-4a92d1f5eaff",
      "metadata": {
        "id": "59ec9c7c-fb87-477e-9c23-4a92d1f5eaff",
        "colab": {
          "base_uri": "https://localhost:8080/",
          "height": 790
        },
        "outputId": "555f8984-2287-4268-cf7f-4ade1ccba275"
      },
      "outputs": [
        {
          "output_type": "execute_result",
          "data": {
            "text/plain": [
              "                  Timestamp  Gender        Country Occupation self_employed  \\\n",
              "0       2014-08-27 11:29:31  Female  United States  Corporate           NaN   \n",
              "1       2014-08-27 11:31:50  Female  United States  Corporate           NaN   \n",
              "2       2014-08-27 11:32:39  Female  United States  Corporate           NaN   \n",
              "3       2014-08-27 11:37:59  Female  United States  Corporate            No   \n",
              "4       2014-08-27 11:43:36  Female  United States  Corporate            No   \n",
              "...                     ...     ...            ...        ...           ...   \n",
              "292359  2015-07-27 23:25:34    Male  United States   Business           Yes   \n",
              "292360  2015-08-17 09:38:35    Male   South Africa   Business            No   \n",
              "292361  2015-08-25 19:59:38    Male  United States   Business            No   \n",
              "292362  2015-09-26 01:07:35    Male  United States   Business            No   \n",
              "292363  2016-02-01 23:04:31    Male  United States   Business            No   \n",
              "\n",
              "       family_history treatment Days_Indoors Growing_Stress Changes_Habits  \\\n",
              "0                  No       Yes    1-14 days            Yes             No   \n",
              "1                 Yes       Yes    1-14 days            Yes             No   \n",
              "2                 Yes       Yes    1-14 days            Yes             No   \n",
              "3                 Yes       Yes    1-14 days            Yes             No   \n",
              "4                 Yes       Yes    1-14 days            Yes             No   \n",
              "...               ...       ...          ...            ...            ...   \n",
              "292359            Yes       Yes   15-30 days             No          Maybe   \n",
              "292360            Yes       Yes   15-30 days             No          Maybe   \n",
              "292361            Yes        No   15-30 days             No          Maybe   \n",
              "292362            Yes       Yes   15-30 days             No          Maybe   \n",
              "292363            Yes       Yes   15-30 days             No          Maybe   \n",
              "\n",
              "       Mental_Health_History Mood_Swings Coping_Struggles Work_Interest  \\\n",
              "0                        Yes      Medium               No            No   \n",
              "1                        Yes      Medium               No            No   \n",
              "2                        Yes      Medium               No            No   \n",
              "3                        Yes      Medium               No            No   \n",
              "4                        Yes      Medium               No            No   \n",
              "...                      ...         ...              ...           ...   \n",
              "292359                    No         Low              Yes            No   \n",
              "292360                    No         Low              Yes            No   \n",
              "292361                    No         Low              Yes            No   \n",
              "292362                    No         Low              Yes            No   \n",
              "292363                    No         Low              Yes            No   \n",
              "\n",
              "       Social_Weakness mental_health_interview care_options  \n",
              "0                  Yes                      No     Not sure  \n",
              "1                  Yes                      No           No  \n",
              "2                  Yes                      No          Yes  \n",
              "3                  Yes                   Maybe          Yes  \n",
              "4                  Yes                      No          Yes  \n",
              "...                ...                     ...          ...  \n",
              "292359           Maybe                   Maybe     Not sure  \n",
              "292360           Maybe                      No          Yes  \n",
              "292361           Maybe                      No           No  \n",
              "292362           Maybe                      No          Yes  \n",
              "292363           Maybe                      No          Yes  \n",
              "\n",
              "[292364 rows x 17 columns]"
            ],
            "text/html": [
              "\n",
              "  <div id=\"df-a81898b3-31ff-481b-b795-2bfa19a6b24e\" class=\"colab-df-container\">\n",
              "    <div>\n",
              "<style scoped>\n",
              "    .dataframe tbody tr th:only-of-type {\n",
              "        vertical-align: middle;\n",
              "    }\n",
              "\n",
              "    .dataframe tbody tr th {\n",
              "        vertical-align: top;\n",
              "    }\n",
              "\n",
              "    .dataframe thead th {\n",
              "        text-align: right;\n",
              "    }\n",
              "</style>\n",
              "<table border=\"1\" class=\"dataframe\">\n",
              "  <thead>\n",
              "    <tr style=\"text-align: right;\">\n",
              "      <th></th>\n",
              "      <th>Timestamp</th>\n",
              "      <th>Gender</th>\n",
              "      <th>Country</th>\n",
              "      <th>Occupation</th>\n",
              "      <th>self_employed</th>\n",
              "      <th>family_history</th>\n",
              "      <th>treatment</th>\n",
              "      <th>Days_Indoors</th>\n",
              "      <th>Growing_Stress</th>\n",
              "      <th>Changes_Habits</th>\n",
              "      <th>Mental_Health_History</th>\n",
              "      <th>Mood_Swings</th>\n",
              "      <th>Coping_Struggles</th>\n",
              "      <th>Work_Interest</th>\n",
              "      <th>Social_Weakness</th>\n",
              "      <th>mental_health_interview</th>\n",
              "      <th>care_options</th>\n",
              "    </tr>\n",
              "  </thead>\n",
              "  <tbody>\n",
              "    <tr>\n",
              "      <th>0</th>\n",
              "      <td>2014-08-27 11:29:31</td>\n",
              "      <td>Female</td>\n",
              "      <td>United States</td>\n",
              "      <td>Corporate</td>\n",
              "      <td>NaN</td>\n",
              "      <td>No</td>\n",
              "      <td>Yes</td>\n",
              "      <td>1-14 days</td>\n",
              "      <td>Yes</td>\n",
              "      <td>No</td>\n",
              "      <td>Yes</td>\n",
              "      <td>Medium</td>\n",
              "      <td>No</td>\n",
              "      <td>No</td>\n",
              "      <td>Yes</td>\n",
              "      <td>No</td>\n",
              "      <td>Not sure</td>\n",
              "    </tr>\n",
              "    <tr>\n",
              "      <th>1</th>\n",
              "      <td>2014-08-27 11:31:50</td>\n",
              "      <td>Female</td>\n",
              "      <td>United States</td>\n",
              "      <td>Corporate</td>\n",
              "      <td>NaN</td>\n",
              "      <td>Yes</td>\n",
              "      <td>Yes</td>\n",
              "      <td>1-14 days</td>\n",
              "      <td>Yes</td>\n",
              "      <td>No</td>\n",
              "      <td>Yes</td>\n",
              "      <td>Medium</td>\n",
              "      <td>No</td>\n",
              "      <td>No</td>\n",
              "      <td>Yes</td>\n",
              "      <td>No</td>\n",
              "      <td>No</td>\n",
              "    </tr>\n",
              "    <tr>\n",
              "      <th>2</th>\n",
              "      <td>2014-08-27 11:32:39</td>\n",
              "      <td>Female</td>\n",
              "      <td>United States</td>\n",
              "      <td>Corporate</td>\n",
              "      <td>NaN</td>\n",
              "      <td>Yes</td>\n",
              "      <td>Yes</td>\n",
              "      <td>1-14 days</td>\n",
              "      <td>Yes</td>\n",
              "      <td>No</td>\n",
              "      <td>Yes</td>\n",
              "      <td>Medium</td>\n",
              "      <td>No</td>\n",
              "      <td>No</td>\n",
              "      <td>Yes</td>\n",
              "      <td>No</td>\n",
              "      <td>Yes</td>\n",
              "    </tr>\n",
              "    <tr>\n",
              "      <th>3</th>\n",
              "      <td>2014-08-27 11:37:59</td>\n",
              "      <td>Female</td>\n",
              "      <td>United States</td>\n",
              "      <td>Corporate</td>\n",
              "      <td>No</td>\n",
              "      <td>Yes</td>\n",
              "      <td>Yes</td>\n",
              "      <td>1-14 days</td>\n",
              "      <td>Yes</td>\n",
              "      <td>No</td>\n",
              "      <td>Yes</td>\n",
              "      <td>Medium</td>\n",
              "      <td>No</td>\n",
              "      <td>No</td>\n",
              "      <td>Yes</td>\n",
              "      <td>Maybe</td>\n",
              "      <td>Yes</td>\n",
              "    </tr>\n",
              "    <tr>\n",
              "      <th>4</th>\n",
              "      <td>2014-08-27 11:43:36</td>\n",
              "      <td>Female</td>\n",
              "      <td>United States</td>\n",
              "      <td>Corporate</td>\n",
              "      <td>No</td>\n",
              "      <td>Yes</td>\n",
              "      <td>Yes</td>\n",
              "      <td>1-14 days</td>\n",
              "      <td>Yes</td>\n",
              "      <td>No</td>\n",
              "      <td>Yes</td>\n",
              "      <td>Medium</td>\n",
              "      <td>No</td>\n",
              "      <td>No</td>\n",
              "      <td>Yes</td>\n",
              "      <td>No</td>\n",
              "      <td>Yes</td>\n",
              "    </tr>\n",
              "    <tr>\n",
              "      <th>...</th>\n",
              "      <td>...</td>\n",
              "      <td>...</td>\n",
              "      <td>...</td>\n",
              "      <td>...</td>\n",
              "      <td>...</td>\n",
              "      <td>...</td>\n",
              "      <td>...</td>\n",
              "      <td>...</td>\n",
              "      <td>...</td>\n",
              "      <td>...</td>\n",
              "      <td>...</td>\n",
              "      <td>...</td>\n",
              "      <td>...</td>\n",
              "      <td>...</td>\n",
              "      <td>...</td>\n",
              "      <td>...</td>\n",
              "      <td>...</td>\n",
              "    </tr>\n",
              "    <tr>\n",
              "      <th>292359</th>\n",
              "      <td>2015-07-27 23:25:34</td>\n",
              "      <td>Male</td>\n",
              "      <td>United States</td>\n",
              "      <td>Business</td>\n",
              "      <td>Yes</td>\n",
              "      <td>Yes</td>\n",
              "      <td>Yes</td>\n",
              "      <td>15-30 days</td>\n",
              "      <td>No</td>\n",
              "      <td>Maybe</td>\n",
              "      <td>No</td>\n",
              "      <td>Low</td>\n",
              "      <td>Yes</td>\n",
              "      <td>No</td>\n",
              "      <td>Maybe</td>\n",
              "      <td>Maybe</td>\n",
              "      <td>Not sure</td>\n",
              "    </tr>\n",
              "    <tr>\n",
              "      <th>292360</th>\n",
              "      <td>2015-08-17 09:38:35</td>\n",
              "      <td>Male</td>\n",
              "      <td>South Africa</td>\n",
              "      <td>Business</td>\n",
              "      <td>No</td>\n",
              "      <td>Yes</td>\n",
              "      <td>Yes</td>\n",
              "      <td>15-30 days</td>\n",
              "      <td>No</td>\n",
              "      <td>Maybe</td>\n",
              "      <td>No</td>\n",
              "      <td>Low</td>\n",
              "      <td>Yes</td>\n",
              "      <td>No</td>\n",
              "      <td>Maybe</td>\n",
              "      <td>No</td>\n",
              "      <td>Yes</td>\n",
              "    </tr>\n",
              "    <tr>\n",
              "      <th>292361</th>\n",
              "      <td>2015-08-25 19:59:38</td>\n",
              "      <td>Male</td>\n",
              "      <td>United States</td>\n",
              "      <td>Business</td>\n",
              "      <td>No</td>\n",
              "      <td>Yes</td>\n",
              "      <td>No</td>\n",
              "      <td>15-30 days</td>\n",
              "      <td>No</td>\n",
              "      <td>Maybe</td>\n",
              "      <td>No</td>\n",
              "      <td>Low</td>\n",
              "      <td>Yes</td>\n",
              "      <td>No</td>\n",
              "      <td>Maybe</td>\n",
              "      <td>No</td>\n",
              "      <td>No</td>\n",
              "    </tr>\n",
              "    <tr>\n",
              "      <th>292362</th>\n",
              "      <td>2015-09-26 01:07:35</td>\n",
              "      <td>Male</td>\n",
              "      <td>United States</td>\n",
              "      <td>Business</td>\n",
              "      <td>No</td>\n",
              "      <td>Yes</td>\n",
              "      <td>Yes</td>\n",
              "      <td>15-30 days</td>\n",
              "      <td>No</td>\n",
              "      <td>Maybe</td>\n",
              "      <td>No</td>\n",
              "      <td>Low</td>\n",
              "      <td>Yes</td>\n",
              "      <td>No</td>\n",
              "      <td>Maybe</td>\n",
              "      <td>No</td>\n",
              "      <td>Yes</td>\n",
              "    </tr>\n",
              "    <tr>\n",
              "      <th>292363</th>\n",
              "      <td>2016-02-01 23:04:31</td>\n",
              "      <td>Male</td>\n",
              "      <td>United States</td>\n",
              "      <td>Business</td>\n",
              "      <td>No</td>\n",
              "      <td>Yes</td>\n",
              "      <td>Yes</td>\n",
              "      <td>15-30 days</td>\n",
              "      <td>No</td>\n",
              "      <td>Maybe</td>\n",
              "      <td>No</td>\n",
              "      <td>Low</td>\n",
              "      <td>Yes</td>\n",
              "      <td>No</td>\n",
              "      <td>Maybe</td>\n",
              "      <td>No</td>\n",
              "      <td>Yes</td>\n",
              "    </tr>\n",
              "  </tbody>\n",
              "</table>\n",
              "<p>292364 rows × 17 columns</p>\n",
              "</div>\n",
              "    <div class=\"colab-df-buttons\">\n",
              "\n",
              "  <div class=\"colab-df-container\">\n",
              "    <button class=\"colab-df-convert\" onclick=\"convertToInteractive('df-a81898b3-31ff-481b-b795-2bfa19a6b24e')\"\n",
              "            title=\"Convert this dataframe to an interactive table.\"\n",
              "            style=\"display:none;\">\n",
              "\n",
              "  <svg xmlns=\"http://www.w3.org/2000/svg\" height=\"24px\" viewBox=\"0 -960 960 960\">\n",
              "    <path d=\"M120-120v-720h720v720H120Zm60-500h600v-160H180v160Zm220 220h160v-160H400v160Zm0 220h160v-160H400v160ZM180-400h160v-160H180v160Zm440 0h160v-160H620v160ZM180-180h160v-160H180v160Zm440 0h160v-160H620v160Z\"/>\n",
              "  </svg>\n",
              "    </button>\n",
              "\n",
              "  <style>\n",
              "    .colab-df-container {\n",
              "      display:flex;\n",
              "      gap: 12px;\n",
              "    }\n",
              "\n",
              "    .colab-df-convert {\n",
              "      background-color: #E8F0FE;\n",
              "      border: none;\n",
              "      border-radius: 50%;\n",
              "      cursor: pointer;\n",
              "      display: none;\n",
              "      fill: #1967D2;\n",
              "      height: 32px;\n",
              "      padding: 0 0 0 0;\n",
              "      width: 32px;\n",
              "    }\n",
              "\n",
              "    .colab-df-convert:hover {\n",
              "      background-color: #E2EBFA;\n",
              "      box-shadow: 0px 1px 2px rgba(60, 64, 67, 0.3), 0px 1px 3px 1px rgba(60, 64, 67, 0.15);\n",
              "      fill: #174EA6;\n",
              "    }\n",
              "\n",
              "    .colab-df-buttons div {\n",
              "      margin-bottom: 4px;\n",
              "    }\n",
              "\n",
              "    [theme=dark] .colab-df-convert {\n",
              "      background-color: #3B4455;\n",
              "      fill: #D2E3FC;\n",
              "    }\n",
              "\n",
              "    [theme=dark] .colab-df-convert:hover {\n",
              "      background-color: #434B5C;\n",
              "      box-shadow: 0px 1px 3px 1px rgba(0, 0, 0, 0.15);\n",
              "      filter: drop-shadow(0px 1px 2px rgba(0, 0, 0, 0.3));\n",
              "      fill: #FFFFFF;\n",
              "    }\n",
              "  </style>\n",
              "\n",
              "    <script>\n",
              "      const buttonEl =\n",
              "        document.querySelector('#df-a81898b3-31ff-481b-b795-2bfa19a6b24e button.colab-df-convert');\n",
              "      buttonEl.style.display =\n",
              "        google.colab.kernel.accessAllowed ? 'block' : 'none';\n",
              "\n",
              "      async function convertToInteractive(key) {\n",
              "        const element = document.querySelector('#df-a81898b3-31ff-481b-b795-2bfa19a6b24e');\n",
              "        const dataTable =\n",
              "          await google.colab.kernel.invokeFunction('convertToInteractive',\n",
              "                                                    [key], {});\n",
              "        if (!dataTable) return;\n",
              "\n",
              "        const docLinkHtml = 'Like what you see? Visit the ' +\n",
              "          '<a target=\"_blank\" href=https://colab.research.google.com/notebooks/data_table.ipynb>data table notebook</a>'\n",
              "          + ' to learn more about interactive tables.';\n",
              "        element.innerHTML = '';\n",
              "        dataTable['output_type'] = 'display_data';\n",
              "        await google.colab.output.renderOutput(dataTable, element);\n",
              "        const docLink = document.createElement('div');\n",
              "        docLink.innerHTML = docLinkHtml;\n",
              "        element.appendChild(docLink);\n",
              "      }\n",
              "    </script>\n",
              "  </div>\n",
              "\n",
              "\n",
              "<div id=\"df-dddd65ce-cdd5-4b78-ba70-29c3cce23213\">\n",
              "  <button class=\"colab-df-quickchart\" onclick=\"quickchart('df-dddd65ce-cdd5-4b78-ba70-29c3cce23213')\"\n",
              "            title=\"Suggest charts\"\n",
              "            style=\"display:none;\">\n",
              "\n",
              "<svg xmlns=\"http://www.w3.org/2000/svg\" height=\"24px\"viewBox=\"0 0 24 24\"\n",
              "     width=\"24px\">\n",
              "    <g>\n",
              "        <path d=\"M19 3H5c-1.1 0-2 .9-2 2v14c0 1.1.9 2 2 2h14c1.1 0 2-.9 2-2V5c0-1.1-.9-2-2-2zM9 17H7v-7h2v7zm4 0h-2V7h2v10zm4 0h-2v-4h2v4z\"/>\n",
              "    </g>\n",
              "</svg>\n",
              "  </button>\n",
              "\n",
              "<style>\n",
              "  .colab-df-quickchart {\n",
              "      --bg-color: #E8F0FE;\n",
              "      --fill-color: #1967D2;\n",
              "      --hover-bg-color: #E2EBFA;\n",
              "      --hover-fill-color: #174EA6;\n",
              "      --disabled-fill-color: #AAA;\n",
              "      --disabled-bg-color: #DDD;\n",
              "  }\n",
              "\n",
              "  [theme=dark] .colab-df-quickchart {\n",
              "      --bg-color: #3B4455;\n",
              "      --fill-color: #D2E3FC;\n",
              "      --hover-bg-color: #434B5C;\n",
              "      --hover-fill-color: #FFFFFF;\n",
              "      --disabled-bg-color: #3B4455;\n",
              "      --disabled-fill-color: #666;\n",
              "  }\n",
              "\n",
              "  .colab-df-quickchart {\n",
              "    background-color: var(--bg-color);\n",
              "    border: none;\n",
              "    border-radius: 50%;\n",
              "    cursor: pointer;\n",
              "    display: none;\n",
              "    fill: var(--fill-color);\n",
              "    height: 32px;\n",
              "    padding: 0;\n",
              "    width: 32px;\n",
              "  }\n",
              "\n",
              "  .colab-df-quickchart:hover {\n",
              "    background-color: var(--hover-bg-color);\n",
              "    box-shadow: 0 1px 2px rgba(60, 64, 67, 0.3), 0 1px 3px 1px rgba(60, 64, 67, 0.15);\n",
              "    fill: var(--button-hover-fill-color);\n",
              "  }\n",
              "\n",
              "  .colab-df-quickchart-complete:disabled,\n",
              "  .colab-df-quickchart-complete:disabled:hover {\n",
              "    background-color: var(--disabled-bg-color);\n",
              "    fill: var(--disabled-fill-color);\n",
              "    box-shadow: none;\n",
              "  }\n",
              "\n",
              "  .colab-df-spinner {\n",
              "    border: 2px solid var(--fill-color);\n",
              "    border-color: transparent;\n",
              "    border-bottom-color: var(--fill-color);\n",
              "    animation:\n",
              "      spin 1s steps(1) infinite;\n",
              "  }\n",
              "\n",
              "  @keyframes spin {\n",
              "    0% {\n",
              "      border-color: transparent;\n",
              "      border-bottom-color: var(--fill-color);\n",
              "      border-left-color: var(--fill-color);\n",
              "    }\n",
              "    20% {\n",
              "      border-color: transparent;\n",
              "      border-left-color: var(--fill-color);\n",
              "      border-top-color: var(--fill-color);\n",
              "    }\n",
              "    30% {\n",
              "      border-color: transparent;\n",
              "      border-left-color: var(--fill-color);\n",
              "      border-top-color: var(--fill-color);\n",
              "      border-right-color: var(--fill-color);\n",
              "    }\n",
              "    40% {\n",
              "      border-color: transparent;\n",
              "      border-right-color: var(--fill-color);\n",
              "      border-top-color: var(--fill-color);\n",
              "    }\n",
              "    60% {\n",
              "      border-color: transparent;\n",
              "      border-right-color: var(--fill-color);\n",
              "    }\n",
              "    80% {\n",
              "      border-color: transparent;\n",
              "      border-right-color: var(--fill-color);\n",
              "      border-bottom-color: var(--fill-color);\n",
              "    }\n",
              "    90% {\n",
              "      border-color: transparent;\n",
              "      border-bottom-color: var(--fill-color);\n",
              "    }\n",
              "  }\n",
              "</style>\n",
              "\n",
              "  <script>\n",
              "    async function quickchart(key) {\n",
              "      const quickchartButtonEl =\n",
              "        document.querySelector('#' + key + ' button');\n",
              "      quickchartButtonEl.disabled = true;  // To prevent multiple clicks.\n",
              "      quickchartButtonEl.classList.add('colab-df-spinner');\n",
              "      try {\n",
              "        const charts = await google.colab.kernel.invokeFunction(\n",
              "            'suggestCharts', [key], {});\n",
              "      } catch (error) {\n",
              "        console.error('Error during call to suggestCharts:', error);\n",
              "      }\n",
              "      quickchartButtonEl.classList.remove('colab-df-spinner');\n",
              "      quickchartButtonEl.classList.add('colab-df-quickchart-complete');\n",
              "    }\n",
              "    (() => {\n",
              "      let quickchartButtonEl =\n",
              "        document.querySelector('#df-dddd65ce-cdd5-4b78-ba70-29c3cce23213 button');\n",
              "      quickchartButtonEl.style.display =\n",
              "        google.colab.kernel.accessAllowed ? 'block' : 'none';\n",
              "    })();\n",
              "  </script>\n",
              "</div>\n",
              "    </div>\n",
              "  </div>\n"
            ],
            "application/vnd.google.colaboratory.intrinsic+json": {
              "type": "dataframe",
              "variable_name": "df"
            }
          },
          "metadata": {},
          "execution_count": 24
        }
      ],
      "source": [
        "df"
      ]
    },
    {
      "cell_type": "code",
      "execution_count": 24,
      "id": "4e2696fc-565a-474e-a1f5-ceb1b423dea0",
      "metadata": {
        "id": "4e2696fc-565a-474e-a1f5-ceb1b423dea0"
      },
      "outputs": [],
      "source": []
    },
    {
      "cell_type": "code",
      "execution_count": 25,
      "id": "98c59fe6-1b09-4cf7-8a6c-b2ac8e40c524",
      "metadata": {
        "id": "98c59fe6-1b09-4cf7-8a6c-b2ac8e40c524",
        "colab": {
          "base_uri": "https://localhost:8080/",
          "height": 400
        },
        "outputId": "9655f0b9-8ef8-445d-ebe6-0be03c8bf6bf"
      },
      "outputs": [
        {
          "output_type": "execute_result",
          "data": {
            "text/plain": [
              "             Timestamp  Gender        Country Occupation self_employed  \\\n",
              "0  2014-08-27 11:29:31  Female  United States  Corporate           NaN   \n",
              "1  2014-08-27 11:31:50  Female  United States  Corporate           NaN   \n",
              "2  2014-08-27 11:32:39  Female  United States  Corporate           NaN   \n",
              "3  2014-08-27 11:37:59  Female  United States  Corporate            No   \n",
              "4  2014-08-27 11:43:36  Female  United States  Corporate            No   \n",
              "\n",
              "  family_history treatment Days_Indoors Growing_Stress Changes_Habits  \\\n",
              "0             No       Yes    1-14 days            Yes             No   \n",
              "1            Yes       Yes    1-14 days            Yes             No   \n",
              "2            Yes       Yes    1-14 days            Yes             No   \n",
              "3            Yes       Yes    1-14 days            Yes             No   \n",
              "4            Yes       Yes    1-14 days            Yes             No   \n",
              "\n",
              "  Mental_Health_History Mood_Swings Coping_Struggles Work_Interest  \\\n",
              "0                   Yes      Medium               No            No   \n",
              "1                   Yes      Medium               No            No   \n",
              "2                   Yes      Medium               No            No   \n",
              "3                   Yes      Medium               No            No   \n",
              "4                   Yes      Medium               No            No   \n",
              "\n",
              "  Social_Weakness mental_health_interview care_options  \n",
              "0             Yes                      No     Not sure  \n",
              "1             Yes                      No           No  \n",
              "2             Yes                      No          Yes  \n",
              "3             Yes                   Maybe          Yes  \n",
              "4             Yes                      No          Yes  "
            ],
            "text/html": [
              "\n",
              "  <div id=\"df-68bd1da3-2d9c-40ec-a878-1bae0b5e0ced\" class=\"colab-df-container\">\n",
              "    <div>\n",
              "<style scoped>\n",
              "    .dataframe tbody tr th:only-of-type {\n",
              "        vertical-align: middle;\n",
              "    }\n",
              "\n",
              "    .dataframe tbody tr th {\n",
              "        vertical-align: top;\n",
              "    }\n",
              "\n",
              "    .dataframe thead th {\n",
              "        text-align: right;\n",
              "    }\n",
              "</style>\n",
              "<table border=\"1\" class=\"dataframe\">\n",
              "  <thead>\n",
              "    <tr style=\"text-align: right;\">\n",
              "      <th></th>\n",
              "      <th>Timestamp</th>\n",
              "      <th>Gender</th>\n",
              "      <th>Country</th>\n",
              "      <th>Occupation</th>\n",
              "      <th>self_employed</th>\n",
              "      <th>family_history</th>\n",
              "      <th>treatment</th>\n",
              "      <th>Days_Indoors</th>\n",
              "      <th>Growing_Stress</th>\n",
              "      <th>Changes_Habits</th>\n",
              "      <th>Mental_Health_History</th>\n",
              "      <th>Mood_Swings</th>\n",
              "      <th>Coping_Struggles</th>\n",
              "      <th>Work_Interest</th>\n",
              "      <th>Social_Weakness</th>\n",
              "      <th>mental_health_interview</th>\n",
              "      <th>care_options</th>\n",
              "    </tr>\n",
              "  </thead>\n",
              "  <tbody>\n",
              "    <tr>\n",
              "      <th>0</th>\n",
              "      <td>2014-08-27 11:29:31</td>\n",
              "      <td>Female</td>\n",
              "      <td>United States</td>\n",
              "      <td>Corporate</td>\n",
              "      <td>NaN</td>\n",
              "      <td>No</td>\n",
              "      <td>Yes</td>\n",
              "      <td>1-14 days</td>\n",
              "      <td>Yes</td>\n",
              "      <td>No</td>\n",
              "      <td>Yes</td>\n",
              "      <td>Medium</td>\n",
              "      <td>No</td>\n",
              "      <td>No</td>\n",
              "      <td>Yes</td>\n",
              "      <td>No</td>\n",
              "      <td>Not sure</td>\n",
              "    </tr>\n",
              "    <tr>\n",
              "      <th>1</th>\n",
              "      <td>2014-08-27 11:31:50</td>\n",
              "      <td>Female</td>\n",
              "      <td>United States</td>\n",
              "      <td>Corporate</td>\n",
              "      <td>NaN</td>\n",
              "      <td>Yes</td>\n",
              "      <td>Yes</td>\n",
              "      <td>1-14 days</td>\n",
              "      <td>Yes</td>\n",
              "      <td>No</td>\n",
              "      <td>Yes</td>\n",
              "      <td>Medium</td>\n",
              "      <td>No</td>\n",
              "      <td>No</td>\n",
              "      <td>Yes</td>\n",
              "      <td>No</td>\n",
              "      <td>No</td>\n",
              "    </tr>\n",
              "    <tr>\n",
              "      <th>2</th>\n",
              "      <td>2014-08-27 11:32:39</td>\n",
              "      <td>Female</td>\n",
              "      <td>United States</td>\n",
              "      <td>Corporate</td>\n",
              "      <td>NaN</td>\n",
              "      <td>Yes</td>\n",
              "      <td>Yes</td>\n",
              "      <td>1-14 days</td>\n",
              "      <td>Yes</td>\n",
              "      <td>No</td>\n",
              "      <td>Yes</td>\n",
              "      <td>Medium</td>\n",
              "      <td>No</td>\n",
              "      <td>No</td>\n",
              "      <td>Yes</td>\n",
              "      <td>No</td>\n",
              "      <td>Yes</td>\n",
              "    </tr>\n",
              "    <tr>\n",
              "      <th>3</th>\n",
              "      <td>2014-08-27 11:37:59</td>\n",
              "      <td>Female</td>\n",
              "      <td>United States</td>\n",
              "      <td>Corporate</td>\n",
              "      <td>No</td>\n",
              "      <td>Yes</td>\n",
              "      <td>Yes</td>\n",
              "      <td>1-14 days</td>\n",
              "      <td>Yes</td>\n",
              "      <td>No</td>\n",
              "      <td>Yes</td>\n",
              "      <td>Medium</td>\n",
              "      <td>No</td>\n",
              "      <td>No</td>\n",
              "      <td>Yes</td>\n",
              "      <td>Maybe</td>\n",
              "      <td>Yes</td>\n",
              "    </tr>\n",
              "    <tr>\n",
              "      <th>4</th>\n",
              "      <td>2014-08-27 11:43:36</td>\n",
              "      <td>Female</td>\n",
              "      <td>United States</td>\n",
              "      <td>Corporate</td>\n",
              "      <td>No</td>\n",
              "      <td>Yes</td>\n",
              "      <td>Yes</td>\n",
              "      <td>1-14 days</td>\n",
              "      <td>Yes</td>\n",
              "      <td>No</td>\n",
              "      <td>Yes</td>\n",
              "      <td>Medium</td>\n",
              "      <td>No</td>\n",
              "      <td>No</td>\n",
              "      <td>Yes</td>\n",
              "      <td>No</td>\n",
              "      <td>Yes</td>\n",
              "    </tr>\n",
              "  </tbody>\n",
              "</table>\n",
              "</div>\n",
              "    <div class=\"colab-df-buttons\">\n",
              "\n",
              "  <div class=\"colab-df-container\">\n",
              "    <button class=\"colab-df-convert\" onclick=\"convertToInteractive('df-68bd1da3-2d9c-40ec-a878-1bae0b5e0ced')\"\n",
              "            title=\"Convert this dataframe to an interactive table.\"\n",
              "            style=\"display:none;\">\n",
              "\n",
              "  <svg xmlns=\"http://www.w3.org/2000/svg\" height=\"24px\" viewBox=\"0 -960 960 960\">\n",
              "    <path d=\"M120-120v-720h720v720H120Zm60-500h600v-160H180v160Zm220 220h160v-160H400v160Zm0 220h160v-160H400v160ZM180-400h160v-160H180v160Zm440 0h160v-160H620v160ZM180-180h160v-160H180v160Zm440 0h160v-160H620v160Z\"/>\n",
              "  </svg>\n",
              "    </button>\n",
              "\n",
              "  <style>\n",
              "    .colab-df-container {\n",
              "      display:flex;\n",
              "      gap: 12px;\n",
              "    }\n",
              "\n",
              "    .colab-df-convert {\n",
              "      background-color: #E8F0FE;\n",
              "      border: none;\n",
              "      border-radius: 50%;\n",
              "      cursor: pointer;\n",
              "      display: none;\n",
              "      fill: #1967D2;\n",
              "      height: 32px;\n",
              "      padding: 0 0 0 0;\n",
              "      width: 32px;\n",
              "    }\n",
              "\n",
              "    .colab-df-convert:hover {\n",
              "      background-color: #E2EBFA;\n",
              "      box-shadow: 0px 1px 2px rgba(60, 64, 67, 0.3), 0px 1px 3px 1px rgba(60, 64, 67, 0.15);\n",
              "      fill: #174EA6;\n",
              "    }\n",
              "\n",
              "    .colab-df-buttons div {\n",
              "      margin-bottom: 4px;\n",
              "    }\n",
              "\n",
              "    [theme=dark] .colab-df-convert {\n",
              "      background-color: #3B4455;\n",
              "      fill: #D2E3FC;\n",
              "    }\n",
              "\n",
              "    [theme=dark] .colab-df-convert:hover {\n",
              "      background-color: #434B5C;\n",
              "      box-shadow: 0px 1px 3px 1px rgba(0, 0, 0, 0.15);\n",
              "      filter: drop-shadow(0px 1px 2px rgba(0, 0, 0, 0.3));\n",
              "      fill: #FFFFFF;\n",
              "    }\n",
              "  </style>\n",
              "\n",
              "    <script>\n",
              "      const buttonEl =\n",
              "        document.querySelector('#df-68bd1da3-2d9c-40ec-a878-1bae0b5e0ced button.colab-df-convert');\n",
              "      buttonEl.style.display =\n",
              "        google.colab.kernel.accessAllowed ? 'block' : 'none';\n",
              "\n",
              "      async function convertToInteractive(key) {\n",
              "        const element = document.querySelector('#df-68bd1da3-2d9c-40ec-a878-1bae0b5e0ced');\n",
              "        const dataTable =\n",
              "          await google.colab.kernel.invokeFunction('convertToInteractive',\n",
              "                                                    [key], {});\n",
              "        if (!dataTable) return;\n",
              "\n",
              "        const docLinkHtml = 'Like what you see? Visit the ' +\n",
              "          '<a target=\"_blank\" href=https://colab.research.google.com/notebooks/data_table.ipynb>data table notebook</a>'\n",
              "          + ' to learn more about interactive tables.';\n",
              "        element.innerHTML = '';\n",
              "        dataTable['output_type'] = 'display_data';\n",
              "        await google.colab.output.renderOutput(dataTable, element);\n",
              "        const docLink = document.createElement('div');\n",
              "        docLink.innerHTML = docLinkHtml;\n",
              "        element.appendChild(docLink);\n",
              "      }\n",
              "    </script>\n",
              "  </div>\n",
              "\n",
              "\n",
              "<div id=\"df-7fd1894b-84ba-41ce-8e43-5fafd45cc8de\">\n",
              "  <button class=\"colab-df-quickchart\" onclick=\"quickchart('df-7fd1894b-84ba-41ce-8e43-5fafd45cc8de')\"\n",
              "            title=\"Suggest charts\"\n",
              "            style=\"display:none;\">\n",
              "\n",
              "<svg xmlns=\"http://www.w3.org/2000/svg\" height=\"24px\"viewBox=\"0 0 24 24\"\n",
              "     width=\"24px\">\n",
              "    <g>\n",
              "        <path d=\"M19 3H5c-1.1 0-2 .9-2 2v14c0 1.1.9 2 2 2h14c1.1 0 2-.9 2-2V5c0-1.1-.9-2-2-2zM9 17H7v-7h2v7zm4 0h-2V7h2v10zm4 0h-2v-4h2v4z\"/>\n",
              "    </g>\n",
              "</svg>\n",
              "  </button>\n",
              "\n",
              "<style>\n",
              "  .colab-df-quickchart {\n",
              "      --bg-color: #E8F0FE;\n",
              "      --fill-color: #1967D2;\n",
              "      --hover-bg-color: #E2EBFA;\n",
              "      --hover-fill-color: #174EA6;\n",
              "      --disabled-fill-color: #AAA;\n",
              "      --disabled-bg-color: #DDD;\n",
              "  }\n",
              "\n",
              "  [theme=dark] .colab-df-quickchart {\n",
              "      --bg-color: #3B4455;\n",
              "      --fill-color: #D2E3FC;\n",
              "      --hover-bg-color: #434B5C;\n",
              "      --hover-fill-color: #FFFFFF;\n",
              "      --disabled-bg-color: #3B4455;\n",
              "      --disabled-fill-color: #666;\n",
              "  }\n",
              "\n",
              "  .colab-df-quickchart {\n",
              "    background-color: var(--bg-color);\n",
              "    border: none;\n",
              "    border-radius: 50%;\n",
              "    cursor: pointer;\n",
              "    display: none;\n",
              "    fill: var(--fill-color);\n",
              "    height: 32px;\n",
              "    padding: 0;\n",
              "    width: 32px;\n",
              "  }\n",
              "\n",
              "  .colab-df-quickchart:hover {\n",
              "    background-color: var(--hover-bg-color);\n",
              "    box-shadow: 0 1px 2px rgba(60, 64, 67, 0.3), 0 1px 3px 1px rgba(60, 64, 67, 0.15);\n",
              "    fill: var(--button-hover-fill-color);\n",
              "  }\n",
              "\n",
              "  .colab-df-quickchart-complete:disabled,\n",
              "  .colab-df-quickchart-complete:disabled:hover {\n",
              "    background-color: var(--disabled-bg-color);\n",
              "    fill: var(--disabled-fill-color);\n",
              "    box-shadow: none;\n",
              "  }\n",
              "\n",
              "  .colab-df-spinner {\n",
              "    border: 2px solid var(--fill-color);\n",
              "    border-color: transparent;\n",
              "    border-bottom-color: var(--fill-color);\n",
              "    animation:\n",
              "      spin 1s steps(1) infinite;\n",
              "  }\n",
              "\n",
              "  @keyframes spin {\n",
              "    0% {\n",
              "      border-color: transparent;\n",
              "      border-bottom-color: var(--fill-color);\n",
              "      border-left-color: var(--fill-color);\n",
              "    }\n",
              "    20% {\n",
              "      border-color: transparent;\n",
              "      border-left-color: var(--fill-color);\n",
              "      border-top-color: var(--fill-color);\n",
              "    }\n",
              "    30% {\n",
              "      border-color: transparent;\n",
              "      border-left-color: var(--fill-color);\n",
              "      border-top-color: var(--fill-color);\n",
              "      border-right-color: var(--fill-color);\n",
              "    }\n",
              "    40% {\n",
              "      border-color: transparent;\n",
              "      border-right-color: var(--fill-color);\n",
              "      border-top-color: var(--fill-color);\n",
              "    }\n",
              "    60% {\n",
              "      border-color: transparent;\n",
              "      border-right-color: var(--fill-color);\n",
              "    }\n",
              "    80% {\n",
              "      border-color: transparent;\n",
              "      border-right-color: var(--fill-color);\n",
              "      border-bottom-color: var(--fill-color);\n",
              "    }\n",
              "    90% {\n",
              "      border-color: transparent;\n",
              "      border-bottom-color: var(--fill-color);\n",
              "    }\n",
              "  }\n",
              "</style>\n",
              "\n",
              "  <script>\n",
              "    async function quickchart(key) {\n",
              "      const quickchartButtonEl =\n",
              "        document.querySelector('#' + key + ' button');\n",
              "      quickchartButtonEl.disabled = true;  // To prevent multiple clicks.\n",
              "      quickchartButtonEl.classList.add('colab-df-spinner');\n",
              "      try {\n",
              "        const charts = await google.colab.kernel.invokeFunction(\n",
              "            'suggestCharts', [key], {});\n",
              "      } catch (error) {\n",
              "        console.error('Error during call to suggestCharts:', error);\n",
              "      }\n",
              "      quickchartButtonEl.classList.remove('colab-df-spinner');\n",
              "      quickchartButtonEl.classList.add('colab-df-quickchart-complete');\n",
              "    }\n",
              "    (() => {\n",
              "      let quickchartButtonEl =\n",
              "        document.querySelector('#df-7fd1894b-84ba-41ce-8e43-5fafd45cc8de button');\n",
              "      quickchartButtonEl.style.display =\n",
              "        google.colab.kernel.accessAllowed ? 'block' : 'none';\n",
              "    })();\n",
              "  </script>\n",
              "</div>\n",
              "    </div>\n",
              "  </div>\n"
            ],
            "application/vnd.google.colaboratory.intrinsic+json": {
              "type": "dataframe",
              "variable_name": "df"
            }
          },
          "metadata": {},
          "execution_count": 25
        }
      ],
      "source": [
        "df.head()"
      ]
    },
    {
      "cell_type": "code",
      "execution_count": 25,
      "id": "f4ddec8d-232c-4639-8604-372a783571b3",
      "metadata": {
        "id": "f4ddec8d-232c-4639-8604-372a783571b3"
      },
      "outputs": [],
      "source": []
    },
    {
      "cell_type": "code",
      "execution_count": 26,
      "id": "63f41d4c-dc20-4cfb-a2fe-42de6c30dbb8",
      "metadata": {
        "id": "63f41d4c-dc20-4cfb-a2fe-42de6c30dbb8",
        "colab": {
          "base_uri": "https://localhost:8080/"
        },
        "outputId": "1b194e8b-9b5b-4a78-f7a6-de028b440773"
      },
      "outputs": [
        {
          "output_type": "stream",
          "name": "stdout",
          "text": [
            "<class 'pandas.core.frame.DataFrame'>\n",
            "RangeIndex: 292364 entries, 0 to 292363\n",
            "Data columns (total 17 columns):\n",
            " #   Column                   Non-Null Count   Dtype \n",
            "---  ------                   --------------   ----- \n",
            " 0   Timestamp                292364 non-null  object\n",
            " 1   Gender                   292364 non-null  object\n",
            " 2   Country                  292364 non-null  object\n",
            " 3   Occupation               292364 non-null  object\n",
            " 4   self_employed            287162 non-null  object\n",
            " 5   family_history           292364 non-null  object\n",
            " 6   treatment                292364 non-null  object\n",
            " 7   Days_Indoors             292364 non-null  object\n",
            " 8   Growing_Stress           292364 non-null  object\n",
            " 9   Changes_Habits           292364 non-null  object\n",
            " 10  Mental_Health_History    292364 non-null  object\n",
            " 11  Mood_Swings              292364 non-null  object\n",
            " 12  Coping_Struggles         292364 non-null  object\n",
            " 13  Work_Interest            292364 non-null  object\n",
            " 14  Social_Weakness          292364 non-null  object\n",
            " 15  mental_health_interview  292364 non-null  object\n",
            " 16  care_options             292364 non-null  object\n",
            "dtypes: object(17)\n",
            "memory usage: 37.9+ MB\n"
          ]
        }
      ],
      "source": [
        "df.info()"
      ]
    },
    {
      "cell_type": "code",
      "execution_count": 27,
      "id": "d6c94cf3-6bfe-4311-af6b-a4a0b9c7ff7e",
      "metadata": {
        "id": "d6c94cf3-6bfe-4311-af6b-a4a0b9c7ff7e"
      },
      "outputs": [],
      "source": [
        "del df['Timestamp']"
      ]
    },
    {
      "cell_type": "code",
      "execution_count": 27,
      "id": "29c6c3bb-b530-446e-b3b9-99033963cd31",
      "metadata": {
        "id": "29c6c3bb-b530-446e-b3b9-99033963cd31"
      },
      "outputs": [],
      "source": []
    },
    {
      "cell_type": "code",
      "execution_count": 28,
      "id": "2a63e3c6-83f6-4044-96ae-4291f77c543e",
      "metadata": {
        "id": "2a63e3c6-83f6-4044-96ae-4291f77c543e",
        "colab": {
          "base_uri": "https://localhost:8080/",
          "height": 617
        },
        "outputId": "ea15f06a-88c1-40de-cf93-fe766d95e4a0"
      },
      "outputs": [
        {
          "output_type": "execute_result",
          "data": {
            "text/plain": [
              "        gender        country occupation self_employed family_history  \\\n",
              "0       Female  United States  Corporate           NaN             No   \n",
              "1       Female  United States  Corporate           NaN            Yes   \n",
              "2       Female  United States  Corporate           NaN            Yes   \n",
              "3       Female  United States  Corporate            No            Yes   \n",
              "4       Female  United States  Corporate            No            Yes   \n",
              "...        ...            ...        ...           ...            ...   \n",
              "292359    Male  United States   Business           Yes            Yes   \n",
              "292360    Male   South Africa   Business            No            Yes   \n",
              "292361    Male  United States   Business            No            Yes   \n",
              "292362    Male  United States   Business            No            Yes   \n",
              "292363    Male  United States   Business            No            Yes   \n",
              "\n",
              "       treatment days_indoors growing_stress changes_habits  \\\n",
              "0            Yes    1-14 days            Yes             No   \n",
              "1            Yes    1-14 days            Yes             No   \n",
              "2            Yes    1-14 days            Yes             No   \n",
              "3            Yes    1-14 days            Yes             No   \n",
              "4            Yes    1-14 days            Yes             No   \n",
              "...          ...          ...            ...            ...   \n",
              "292359       Yes   15-30 days             No          Maybe   \n",
              "292360       Yes   15-30 days             No          Maybe   \n",
              "292361        No   15-30 days             No          Maybe   \n",
              "292362       Yes   15-30 days             No          Maybe   \n",
              "292363       Yes   15-30 days             No          Maybe   \n",
              "\n",
              "       mental_health_history mood_swings coping_struggles work_interest  \\\n",
              "0                        Yes      Medium               No            No   \n",
              "1                        Yes      Medium               No            No   \n",
              "2                        Yes      Medium               No            No   \n",
              "3                        Yes      Medium               No            No   \n",
              "4                        Yes      Medium               No            No   \n",
              "...                      ...         ...              ...           ...   \n",
              "292359                    No         Low              Yes            No   \n",
              "292360                    No         Low              Yes            No   \n",
              "292361                    No         Low              Yes            No   \n",
              "292362                    No         Low              Yes            No   \n",
              "292363                    No         Low              Yes            No   \n",
              "\n",
              "       social_weakness mental_health_interview care_options  \n",
              "0                  Yes                      No     Not sure  \n",
              "1                  Yes                      No           No  \n",
              "2                  Yes                      No          Yes  \n",
              "3                  Yes                   Maybe          Yes  \n",
              "4                  Yes                      No          Yes  \n",
              "...                ...                     ...          ...  \n",
              "292359           Maybe                   Maybe     Not sure  \n",
              "292360           Maybe                      No          Yes  \n",
              "292361           Maybe                      No           No  \n",
              "292362           Maybe                      No          Yes  \n",
              "292363           Maybe                      No          Yes  \n",
              "\n",
              "[292364 rows x 16 columns]"
            ],
            "text/html": [
              "\n",
              "  <div id=\"df-e2362f62-72ae-40a8-955d-3485f063e631\" class=\"colab-df-container\">\n",
              "    <div>\n",
              "<style scoped>\n",
              "    .dataframe tbody tr th:only-of-type {\n",
              "        vertical-align: middle;\n",
              "    }\n",
              "\n",
              "    .dataframe tbody tr th {\n",
              "        vertical-align: top;\n",
              "    }\n",
              "\n",
              "    .dataframe thead th {\n",
              "        text-align: right;\n",
              "    }\n",
              "</style>\n",
              "<table border=\"1\" class=\"dataframe\">\n",
              "  <thead>\n",
              "    <tr style=\"text-align: right;\">\n",
              "      <th></th>\n",
              "      <th>gender</th>\n",
              "      <th>country</th>\n",
              "      <th>occupation</th>\n",
              "      <th>self_employed</th>\n",
              "      <th>family_history</th>\n",
              "      <th>treatment</th>\n",
              "      <th>days_indoors</th>\n",
              "      <th>growing_stress</th>\n",
              "      <th>changes_habits</th>\n",
              "      <th>mental_health_history</th>\n",
              "      <th>mood_swings</th>\n",
              "      <th>coping_struggles</th>\n",
              "      <th>work_interest</th>\n",
              "      <th>social_weakness</th>\n",
              "      <th>mental_health_interview</th>\n",
              "      <th>care_options</th>\n",
              "    </tr>\n",
              "  </thead>\n",
              "  <tbody>\n",
              "    <tr>\n",
              "      <th>0</th>\n",
              "      <td>Female</td>\n",
              "      <td>United States</td>\n",
              "      <td>Corporate</td>\n",
              "      <td>NaN</td>\n",
              "      <td>No</td>\n",
              "      <td>Yes</td>\n",
              "      <td>1-14 days</td>\n",
              "      <td>Yes</td>\n",
              "      <td>No</td>\n",
              "      <td>Yes</td>\n",
              "      <td>Medium</td>\n",
              "      <td>No</td>\n",
              "      <td>No</td>\n",
              "      <td>Yes</td>\n",
              "      <td>No</td>\n",
              "      <td>Not sure</td>\n",
              "    </tr>\n",
              "    <tr>\n",
              "      <th>1</th>\n",
              "      <td>Female</td>\n",
              "      <td>United States</td>\n",
              "      <td>Corporate</td>\n",
              "      <td>NaN</td>\n",
              "      <td>Yes</td>\n",
              "      <td>Yes</td>\n",
              "      <td>1-14 days</td>\n",
              "      <td>Yes</td>\n",
              "      <td>No</td>\n",
              "      <td>Yes</td>\n",
              "      <td>Medium</td>\n",
              "      <td>No</td>\n",
              "      <td>No</td>\n",
              "      <td>Yes</td>\n",
              "      <td>No</td>\n",
              "      <td>No</td>\n",
              "    </tr>\n",
              "    <tr>\n",
              "      <th>2</th>\n",
              "      <td>Female</td>\n",
              "      <td>United States</td>\n",
              "      <td>Corporate</td>\n",
              "      <td>NaN</td>\n",
              "      <td>Yes</td>\n",
              "      <td>Yes</td>\n",
              "      <td>1-14 days</td>\n",
              "      <td>Yes</td>\n",
              "      <td>No</td>\n",
              "      <td>Yes</td>\n",
              "      <td>Medium</td>\n",
              "      <td>No</td>\n",
              "      <td>No</td>\n",
              "      <td>Yes</td>\n",
              "      <td>No</td>\n",
              "      <td>Yes</td>\n",
              "    </tr>\n",
              "    <tr>\n",
              "      <th>3</th>\n",
              "      <td>Female</td>\n",
              "      <td>United States</td>\n",
              "      <td>Corporate</td>\n",
              "      <td>No</td>\n",
              "      <td>Yes</td>\n",
              "      <td>Yes</td>\n",
              "      <td>1-14 days</td>\n",
              "      <td>Yes</td>\n",
              "      <td>No</td>\n",
              "      <td>Yes</td>\n",
              "      <td>Medium</td>\n",
              "      <td>No</td>\n",
              "      <td>No</td>\n",
              "      <td>Yes</td>\n",
              "      <td>Maybe</td>\n",
              "      <td>Yes</td>\n",
              "    </tr>\n",
              "    <tr>\n",
              "      <th>4</th>\n",
              "      <td>Female</td>\n",
              "      <td>United States</td>\n",
              "      <td>Corporate</td>\n",
              "      <td>No</td>\n",
              "      <td>Yes</td>\n",
              "      <td>Yes</td>\n",
              "      <td>1-14 days</td>\n",
              "      <td>Yes</td>\n",
              "      <td>No</td>\n",
              "      <td>Yes</td>\n",
              "      <td>Medium</td>\n",
              "      <td>No</td>\n",
              "      <td>No</td>\n",
              "      <td>Yes</td>\n",
              "      <td>No</td>\n",
              "      <td>Yes</td>\n",
              "    </tr>\n",
              "    <tr>\n",
              "      <th>...</th>\n",
              "      <td>...</td>\n",
              "      <td>...</td>\n",
              "      <td>...</td>\n",
              "      <td>...</td>\n",
              "      <td>...</td>\n",
              "      <td>...</td>\n",
              "      <td>...</td>\n",
              "      <td>...</td>\n",
              "      <td>...</td>\n",
              "      <td>...</td>\n",
              "      <td>...</td>\n",
              "      <td>...</td>\n",
              "      <td>...</td>\n",
              "      <td>...</td>\n",
              "      <td>...</td>\n",
              "      <td>...</td>\n",
              "    </tr>\n",
              "    <tr>\n",
              "      <th>292359</th>\n",
              "      <td>Male</td>\n",
              "      <td>United States</td>\n",
              "      <td>Business</td>\n",
              "      <td>Yes</td>\n",
              "      <td>Yes</td>\n",
              "      <td>Yes</td>\n",
              "      <td>15-30 days</td>\n",
              "      <td>No</td>\n",
              "      <td>Maybe</td>\n",
              "      <td>No</td>\n",
              "      <td>Low</td>\n",
              "      <td>Yes</td>\n",
              "      <td>No</td>\n",
              "      <td>Maybe</td>\n",
              "      <td>Maybe</td>\n",
              "      <td>Not sure</td>\n",
              "    </tr>\n",
              "    <tr>\n",
              "      <th>292360</th>\n",
              "      <td>Male</td>\n",
              "      <td>South Africa</td>\n",
              "      <td>Business</td>\n",
              "      <td>No</td>\n",
              "      <td>Yes</td>\n",
              "      <td>Yes</td>\n",
              "      <td>15-30 days</td>\n",
              "      <td>No</td>\n",
              "      <td>Maybe</td>\n",
              "      <td>No</td>\n",
              "      <td>Low</td>\n",
              "      <td>Yes</td>\n",
              "      <td>No</td>\n",
              "      <td>Maybe</td>\n",
              "      <td>No</td>\n",
              "      <td>Yes</td>\n",
              "    </tr>\n",
              "    <tr>\n",
              "      <th>292361</th>\n",
              "      <td>Male</td>\n",
              "      <td>United States</td>\n",
              "      <td>Business</td>\n",
              "      <td>No</td>\n",
              "      <td>Yes</td>\n",
              "      <td>No</td>\n",
              "      <td>15-30 days</td>\n",
              "      <td>No</td>\n",
              "      <td>Maybe</td>\n",
              "      <td>No</td>\n",
              "      <td>Low</td>\n",
              "      <td>Yes</td>\n",
              "      <td>No</td>\n",
              "      <td>Maybe</td>\n",
              "      <td>No</td>\n",
              "      <td>No</td>\n",
              "    </tr>\n",
              "    <tr>\n",
              "      <th>292362</th>\n",
              "      <td>Male</td>\n",
              "      <td>United States</td>\n",
              "      <td>Business</td>\n",
              "      <td>No</td>\n",
              "      <td>Yes</td>\n",
              "      <td>Yes</td>\n",
              "      <td>15-30 days</td>\n",
              "      <td>No</td>\n",
              "      <td>Maybe</td>\n",
              "      <td>No</td>\n",
              "      <td>Low</td>\n",
              "      <td>Yes</td>\n",
              "      <td>No</td>\n",
              "      <td>Maybe</td>\n",
              "      <td>No</td>\n",
              "      <td>Yes</td>\n",
              "    </tr>\n",
              "    <tr>\n",
              "      <th>292363</th>\n",
              "      <td>Male</td>\n",
              "      <td>United States</td>\n",
              "      <td>Business</td>\n",
              "      <td>No</td>\n",
              "      <td>Yes</td>\n",
              "      <td>Yes</td>\n",
              "      <td>15-30 days</td>\n",
              "      <td>No</td>\n",
              "      <td>Maybe</td>\n",
              "      <td>No</td>\n",
              "      <td>Low</td>\n",
              "      <td>Yes</td>\n",
              "      <td>No</td>\n",
              "      <td>Maybe</td>\n",
              "      <td>No</td>\n",
              "      <td>Yes</td>\n",
              "    </tr>\n",
              "  </tbody>\n",
              "</table>\n",
              "<p>292364 rows × 16 columns</p>\n",
              "</div>\n",
              "    <div class=\"colab-df-buttons\">\n",
              "\n",
              "  <div class=\"colab-df-container\">\n",
              "    <button class=\"colab-df-convert\" onclick=\"convertToInteractive('df-e2362f62-72ae-40a8-955d-3485f063e631')\"\n",
              "            title=\"Convert this dataframe to an interactive table.\"\n",
              "            style=\"display:none;\">\n",
              "\n",
              "  <svg xmlns=\"http://www.w3.org/2000/svg\" height=\"24px\" viewBox=\"0 -960 960 960\">\n",
              "    <path d=\"M120-120v-720h720v720H120Zm60-500h600v-160H180v160Zm220 220h160v-160H400v160Zm0 220h160v-160H400v160ZM180-400h160v-160H180v160Zm440 0h160v-160H620v160ZM180-180h160v-160H180v160Zm440 0h160v-160H620v160Z\"/>\n",
              "  </svg>\n",
              "    </button>\n",
              "\n",
              "  <style>\n",
              "    .colab-df-container {\n",
              "      display:flex;\n",
              "      gap: 12px;\n",
              "    }\n",
              "\n",
              "    .colab-df-convert {\n",
              "      background-color: #E8F0FE;\n",
              "      border: none;\n",
              "      border-radius: 50%;\n",
              "      cursor: pointer;\n",
              "      display: none;\n",
              "      fill: #1967D2;\n",
              "      height: 32px;\n",
              "      padding: 0 0 0 0;\n",
              "      width: 32px;\n",
              "    }\n",
              "\n",
              "    .colab-df-convert:hover {\n",
              "      background-color: #E2EBFA;\n",
              "      box-shadow: 0px 1px 2px rgba(60, 64, 67, 0.3), 0px 1px 3px 1px rgba(60, 64, 67, 0.15);\n",
              "      fill: #174EA6;\n",
              "    }\n",
              "\n",
              "    .colab-df-buttons div {\n",
              "      margin-bottom: 4px;\n",
              "    }\n",
              "\n",
              "    [theme=dark] .colab-df-convert {\n",
              "      background-color: #3B4455;\n",
              "      fill: #D2E3FC;\n",
              "    }\n",
              "\n",
              "    [theme=dark] .colab-df-convert:hover {\n",
              "      background-color: #434B5C;\n",
              "      box-shadow: 0px 1px 3px 1px rgba(0, 0, 0, 0.15);\n",
              "      filter: drop-shadow(0px 1px 2px rgba(0, 0, 0, 0.3));\n",
              "      fill: #FFFFFF;\n",
              "    }\n",
              "  </style>\n",
              "\n",
              "    <script>\n",
              "      const buttonEl =\n",
              "        document.querySelector('#df-e2362f62-72ae-40a8-955d-3485f063e631 button.colab-df-convert');\n",
              "      buttonEl.style.display =\n",
              "        google.colab.kernel.accessAllowed ? 'block' : 'none';\n",
              "\n",
              "      async function convertToInteractive(key) {\n",
              "        const element = document.querySelector('#df-e2362f62-72ae-40a8-955d-3485f063e631');\n",
              "        const dataTable =\n",
              "          await google.colab.kernel.invokeFunction('convertToInteractive',\n",
              "                                                    [key], {});\n",
              "        if (!dataTable) return;\n",
              "\n",
              "        const docLinkHtml = 'Like what you see? Visit the ' +\n",
              "          '<a target=\"_blank\" href=https://colab.research.google.com/notebooks/data_table.ipynb>data table notebook</a>'\n",
              "          + ' to learn more about interactive tables.';\n",
              "        element.innerHTML = '';\n",
              "        dataTable['output_type'] = 'display_data';\n",
              "        await google.colab.output.renderOutput(dataTable, element);\n",
              "        const docLink = document.createElement('div');\n",
              "        docLink.innerHTML = docLinkHtml;\n",
              "        element.appendChild(docLink);\n",
              "      }\n",
              "    </script>\n",
              "  </div>\n",
              "\n",
              "\n",
              "<div id=\"df-88a83424-558c-490e-b168-8a06f8cb16ac\">\n",
              "  <button class=\"colab-df-quickchart\" onclick=\"quickchart('df-88a83424-558c-490e-b168-8a06f8cb16ac')\"\n",
              "            title=\"Suggest charts\"\n",
              "            style=\"display:none;\">\n",
              "\n",
              "<svg xmlns=\"http://www.w3.org/2000/svg\" height=\"24px\"viewBox=\"0 0 24 24\"\n",
              "     width=\"24px\">\n",
              "    <g>\n",
              "        <path d=\"M19 3H5c-1.1 0-2 .9-2 2v14c0 1.1.9 2 2 2h14c1.1 0 2-.9 2-2V5c0-1.1-.9-2-2-2zM9 17H7v-7h2v7zm4 0h-2V7h2v10zm4 0h-2v-4h2v4z\"/>\n",
              "    </g>\n",
              "</svg>\n",
              "  </button>\n",
              "\n",
              "<style>\n",
              "  .colab-df-quickchart {\n",
              "      --bg-color: #E8F0FE;\n",
              "      --fill-color: #1967D2;\n",
              "      --hover-bg-color: #E2EBFA;\n",
              "      --hover-fill-color: #174EA6;\n",
              "      --disabled-fill-color: #AAA;\n",
              "      --disabled-bg-color: #DDD;\n",
              "  }\n",
              "\n",
              "  [theme=dark] .colab-df-quickchart {\n",
              "      --bg-color: #3B4455;\n",
              "      --fill-color: #D2E3FC;\n",
              "      --hover-bg-color: #434B5C;\n",
              "      --hover-fill-color: #FFFFFF;\n",
              "      --disabled-bg-color: #3B4455;\n",
              "      --disabled-fill-color: #666;\n",
              "  }\n",
              "\n",
              "  .colab-df-quickchart {\n",
              "    background-color: var(--bg-color);\n",
              "    border: none;\n",
              "    border-radius: 50%;\n",
              "    cursor: pointer;\n",
              "    display: none;\n",
              "    fill: var(--fill-color);\n",
              "    height: 32px;\n",
              "    padding: 0;\n",
              "    width: 32px;\n",
              "  }\n",
              "\n",
              "  .colab-df-quickchart:hover {\n",
              "    background-color: var(--hover-bg-color);\n",
              "    box-shadow: 0 1px 2px rgba(60, 64, 67, 0.3), 0 1px 3px 1px rgba(60, 64, 67, 0.15);\n",
              "    fill: var(--button-hover-fill-color);\n",
              "  }\n",
              "\n",
              "  .colab-df-quickchart-complete:disabled,\n",
              "  .colab-df-quickchart-complete:disabled:hover {\n",
              "    background-color: var(--disabled-bg-color);\n",
              "    fill: var(--disabled-fill-color);\n",
              "    box-shadow: none;\n",
              "  }\n",
              "\n",
              "  .colab-df-spinner {\n",
              "    border: 2px solid var(--fill-color);\n",
              "    border-color: transparent;\n",
              "    border-bottom-color: var(--fill-color);\n",
              "    animation:\n",
              "      spin 1s steps(1) infinite;\n",
              "  }\n",
              "\n",
              "  @keyframes spin {\n",
              "    0% {\n",
              "      border-color: transparent;\n",
              "      border-bottom-color: var(--fill-color);\n",
              "      border-left-color: var(--fill-color);\n",
              "    }\n",
              "    20% {\n",
              "      border-color: transparent;\n",
              "      border-left-color: var(--fill-color);\n",
              "      border-top-color: var(--fill-color);\n",
              "    }\n",
              "    30% {\n",
              "      border-color: transparent;\n",
              "      border-left-color: var(--fill-color);\n",
              "      border-top-color: var(--fill-color);\n",
              "      border-right-color: var(--fill-color);\n",
              "    }\n",
              "    40% {\n",
              "      border-color: transparent;\n",
              "      border-right-color: var(--fill-color);\n",
              "      border-top-color: var(--fill-color);\n",
              "    }\n",
              "    60% {\n",
              "      border-color: transparent;\n",
              "      border-right-color: var(--fill-color);\n",
              "    }\n",
              "    80% {\n",
              "      border-color: transparent;\n",
              "      border-right-color: var(--fill-color);\n",
              "      border-bottom-color: var(--fill-color);\n",
              "    }\n",
              "    90% {\n",
              "      border-color: transparent;\n",
              "      border-bottom-color: var(--fill-color);\n",
              "    }\n",
              "  }\n",
              "</style>\n",
              "\n",
              "  <script>\n",
              "    async function quickchart(key) {\n",
              "      const quickchartButtonEl =\n",
              "        document.querySelector('#' + key + ' button');\n",
              "      quickchartButtonEl.disabled = true;  // To prevent multiple clicks.\n",
              "      quickchartButtonEl.classList.add('colab-df-spinner');\n",
              "      try {\n",
              "        const charts = await google.colab.kernel.invokeFunction(\n",
              "            'suggestCharts', [key], {});\n",
              "      } catch (error) {\n",
              "        console.error('Error during call to suggestCharts:', error);\n",
              "      }\n",
              "      quickchartButtonEl.classList.remove('colab-df-spinner');\n",
              "      quickchartButtonEl.classList.add('colab-df-quickchart-complete');\n",
              "    }\n",
              "    (() => {\n",
              "      let quickchartButtonEl =\n",
              "        document.querySelector('#df-88a83424-558c-490e-b168-8a06f8cb16ac button');\n",
              "      quickchartButtonEl.style.display =\n",
              "        google.colab.kernel.accessAllowed ? 'block' : 'none';\n",
              "    })();\n",
              "  </script>\n",
              "</div>\n",
              "    </div>\n",
              "  </div>\n"
            ],
            "application/vnd.google.colaboratory.intrinsic+json": {
              "type": "dataframe",
              "variable_name": "df"
            }
          },
          "metadata": {},
          "execution_count": 28
        }
      ],
      "source": [
        "df = df.rename(columns = str.lower)\n",
        "df"
      ]
    },
    {
      "cell_type": "code",
      "execution_count": 28,
      "id": "c08c21b5-9165-4a34-9b8e-b92385fd7e62",
      "metadata": {
        "id": "c08c21b5-9165-4a34-9b8e-b92385fd7e62"
      },
      "outputs": [],
      "source": []
    },
    {
      "cell_type": "code",
      "execution_count": 29,
      "id": "3183e412-fed4-44d6-b9f0-4ea827ac4780",
      "metadata": {
        "id": "3183e412-fed4-44d6-b9f0-4ea827ac4780",
        "colab": {
          "base_uri": "https://localhost:8080/"
        },
        "outputId": "70a691db-a7fd-4e21-a868-0adbeed32c7f"
      },
      "outputs": [
        {
          "output_type": "execute_result",
          "data": {
            "text/plain": [
              "gender                        0\n",
              "country                       0\n",
              "occupation                    0\n",
              "self_employed              5202\n",
              "family_history                0\n",
              "treatment                     0\n",
              "days_indoors                  0\n",
              "growing_stress                0\n",
              "changes_habits                0\n",
              "mental_health_history         0\n",
              "mood_swings                   0\n",
              "coping_struggles              0\n",
              "work_interest                 0\n",
              "social_weakness               0\n",
              "mental_health_interview       0\n",
              "care_options                  0\n",
              "dtype: int64"
            ]
          },
          "metadata": {},
          "execution_count": 29
        }
      ],
      "source": [
        "df.isnull().sum()"
      ]
    },
    {
      "cell_type": "code",
      "execution_count": 30,
      "id": "66bffbb4-e3e4-4c50-bef4-259f58584930",
      "metadata": {
        "id": "66bffbb4-e3e4-4c50-bef4-259f58584930"
      },
      "outputs": [],
      "source": [
        "df = df.dropna(subset = 'self_employed')"
      ]
    },
    {
      "cell_type": "code",
      "execution_count": 30,
      "id": "648fe110-98f6-479e-b1e7-d2f06acf9712",
      "metadata": {
        "id": "648fe110-98f6-479e-b1e7-d2f06acf9712"
      },
      "outputs": [],
      "source": []
    },
    {
      "cell_type": "code",
      "execution_count": 31,
      "id": "0053b5fd-4bb2-4644-93fa-3dadf09d6719",
      "metadata": {
        "id": "0053b5fd-4bb2-4644-93fa-3dadf09d6719",
        "colab": {
          "base_uri": "https://localhost:8080/"
        },
        "outputId": "007fb7b6-216c-454d-e0ea-5739710bc7f5"
      },
      "outputs": [
        {
          "output_type": "execute_result",
          "data": {
            "text/plain": [
              "gender                      2\n",
              "country                    35\n",
              "occupation                  5\n",
              "self_employed               2\n",
              "family_history              2\n",
              "treatment                   2\n",
              "days_indoors                5\n",
              "growing_stress              3\n",
              "changes_habits              3\n",
              "mental_health_history       3\n",
              "mood_swings                 3\n",
              "coping_struggles            2\n",
              "work_interest               3\n",
              "social_weakness             3\n",
              "mental_health_interview     3\n",
              "care_options                3\n",
              "dtype: int64"
            ]
          },
          "metadata": {},
          "execution_count": 31
        }
      ],
      "source": [
        "df.nunique()"
      ]
    },
    {
      "cell_type": "code",
      "execution_count": 31,
      "id": "f7bac758-e7d9-4b1a-bf2d-d5062f591d4c",
      "metadata": {
        "id": "f7bac758-e7d9-4b1a-bf2d-d5062f591d4c"
      },
      "outputs": [],
      "source": []
    },
    {
      "cell_type": "code",
      "execution_count": 32,
      "id": "3cc2381f-6085-4cd5-9da3-7f853b20aa08",
      "metadata": {
        "id": "3cc2381f-6085-4cd5-9da3-7f853b20aa08",
        "colab": {
          "base_uri": "https://localhost:8080/"
        },
        "outputId": "25451e57-9663-4663-a7f7-cfa95cdcab9a"
      },
      "outputs": [
        {
          "output_type": "execute_result",
          "data": {
            "text/plain": [
              "array(['United States', 'Poland', 'Australia', 'Canada', 'United Kingdom',\n",
              "       'South Africa', 'Sweden', 'New Zealand', 'Netherlands', 'India',\n",
              "       'Belgium', 'Ireland', 'France', 'Portugal', 'Brazil', 'Costa Rica',\n",
              "       'Russia', 'Germany', 'Switzerland', 'Finland', 'Israel', 'Italy',\n",
              "       'Bosnia and Herzegovina', 'Singapore', 'Nigeria', 'Croatia',\n",
              "       'Thailand', 'Denmark', 'Mexico', 'Greece', 'Moldova', 'Colombia',\n",
              "       'Georgia', 'Czech Republic', 'Philippines'], dtype=object)"
            ]
          },
          "metadata": {},
          "execution_count": 32
        }
      ],
      "source": [
        "df[\"country\"].unique()"
      ]
    },
    {
      "cell_type": "code",
      "execution_count": 33,
      "id": "df51a945-2161-4eb6-b933-8d5618663a09",
      "metadata": {
        "id": "df51a945-2161-4eb6-b933-8d5618663a09",
        "colab": {
          "base_uri": "https://localhost:8080/"
        },
        "outputId": "40c0b4a2-70de-4cd8-f76e-2f3714174017"
      },
      "outputs": [
        {
          "output_type": "execute_result",
          "data": {
            "text/plain": [
              "country\n",
              "United States             168056\n",
              "United Kingdom             50624\n",
              "Canada                     17556\n",
              "Australia                   6026\n",
              "Netherlands                 5894\n",
              "Ireland                     5548\n",
              "Germany                     4680\n",
              "Sweden                      2818\n",
              "India                       2774\n",
              "France                      2340\n",
              "Brazil                      2340\n",
              "New Zealand                 1994\n",
              "South Africa                1994\n",
              "Switzerland                 1560\n",
              "Israel                      1560\n",
              "Italy                       1560\n",
              "Belgium                      824\n",
              "Poland                       824\n",
              "Russia                       780\n",
              "Denmark                      780\n",
              "Singapore                    780\n",
              "Greece                       780\n",
              "Czech Republic               390\n",
              "Georgia                      390\n",
              "Colombia                     390\n",
              "Moldova                      390\n",
              "Mexico                       390\n",
              "Croatia                      390\n",
              "Thailand                     390\n",
              "Nigeria                      390\n",
              "Bosnia and Herzegovina       390\n",
              "Portugal                     390\n",
              "Finland                      390\n",
              "Costa Rica                   390\n",
              "Philippines                  390\n",
              "Name: count, dtype: int64"
            ]
          },
          "metadata": {},
          "execution_count": 33
        }
      ],
      "source": [
        "df['country'].value_counts()"
      ]
    },
    {
      "cell_type": "code",
      "source": [
        "df['country'].value_counts(normalize=True)"
      ],
      "metadata": {
        "id": "LNvrbgxRLlyE",
        "colab": {
          "base_uri": "https://localhost:8080/"
        },
        "outputId": "d6bfceb4-82e4-48a0-8df9-8bbd957aa1a7"
      },
      "id": "LNvrbgxRLlyE",
      "execution_count": 34,
      "outputs": [
        {
          "output_type": "execute_result",
          "data": {
            "text/plain": [
              "country\n",
              "United States             0.585231\n",
              "United Kingdom            0.176291\n",
              "Canada                    0.061136\n",
              "Australia                 0.020985\n",
              "Netherlands               0.020525\n",
              "Ireland                   0.019320\n",
              "Germany                   0.016297\n",
              "Sweden                    0.009813\n",
              "India                     0.009660\n",
              "France                    0.008149\n",
              "Brazil                    0.008149\n",
              "New Zealand               0.006944\n",
              "South Africa              0.006944\n",
              "Switzerland               0.005432\n",
              "Israel                    0.005432\n",
              "Italy                     0.005432\n",
              "Belgium                   0.002869\n",
              "Poland                    0.002869\n",
              "Russia                    0.002716\n",
              "Denmark                   0.002716\n",
              "Singapore                 0.002716\n",
              "Greece                    0.002716\n",
              "Czech Republic            0.001358\n",
              "Georgia                   0.001358\n",
              "Colombia                  0.001358\n",
              "Moldova                   0.001358\n",
              "Mexico                    0.001358\n",
              "Croatia                   0.001358\n",
              "Thailand                  0.001358\n",
              "Nigeria                   0.001358\n",
              "Bosnia and Herzegovina    0.001358\n",
              "Portugal                  0.001358\n",
              "Finland                   0.001358\n",
              "Costa Rica                0.001358\n",
              "Philippines               0.001358\n",
              "Name: proportion, dtype: float64"
            ]
          },
          "metadata": {},
          "execution_count": 34
        }
      ]
    },
    {
      "cell_type": "code",
      "source": [],
      "metadata": {
        "id": "xtFQMI0FQ376"
      },
      "id": "xtFQMI0FQ376",
      "execution_count": 34,
      "outputs": []
    },
    {
      "cell_type": "code",
      "source": [],
      "metadata": {
        "id": "7jNmWsxXQ3_L"
      },
      "id": "7jNmWsxXQ3_L",
      "execution_count": 34,
      "outputs": []
    },
    {
      "cell_type": "code",
      "source": [],
      "metadata": {
        "id": "zvXtauOuQ2MU"
      },
      "id": "zvXtauOuQ2MU",
      "execution_count": 34,
      "outputs": []
    },
    {
      "cell_type": "code",
      "execution_count": 35,
      "id": "ee623e29-6ae8-4284-8b69-aca5b3a40fcf",
      "metadata": {
        "id": "ee623e29-6ae8-4284-8b69-aca5b3a40fcf",
        "colab": {
          "base_uri": "https://localhost:8080/",
          "height": 980
        },
        "outputId": "ee7834bf-e42d-44c8-d939-9da2a7a2b423"
      },
      "outputs": [
        {
          "output_type": "stream",
          "name": "stderr",
          "text": [
            "WARNING:matplotlib.legend:No artists with labels found to put in legend.  Note that artists whose label start with an underscore are ignored when legend() is called with no argument.\n"
          ]
        },
        {
          "output_type": "display_data",
          "data": {
            "text/plain": [
              "<Figure size 1300x1000 with 1 Axes>"
            ],
            "image/png": "[encoded data removed]"
          },
          "metadata": {}
        }
      ],
      "source": [
        "plt.figure(figsize=(13, 10))\n",
        "sns.set_context(\"paper\", font_scale=0.94)\n",
        "\n",
        "sns.histplot(\n",
        "    data=df,\n",
        "    x='country',\n",
        "    bins=10,\n",
        "    hue='country'\n",
        ")\n",
        "\n",
        "plt.title('Distribution of the number of respondents by country', fontsize=12)\n",
        "plt.ylabel('Тumber of respondents', fontsize=12)\n",
        "plt.xlabel('Country', fontsize=12)\n",
        "plt.legend().remove()\n",
        "\n",
        "bins=10\n",
        "plt.xticks(rotation=90)\n",
        "\n",
        "plt.yscale('log')\n"
      ]
    },
    {
      "cell_type": "code",
      "execution_count": 36,
      "id": "0d72e5b2-2f39-4146-b201-1f2b48d3dc8a",
      "metadata": {
        "id": "0d72e5b2-2f39-4146-b201-1f2b48d3dc8a",
        "colab": {
          "base_uri": "https://localhost:8080/"
        },
        "outputId": "1b43b7fb-1657-49bd-e0f8-dfbd27bbaa14"
      },
      "outputs": [
        {
          "output_type": "execute_result",
          "data": {
            "text/plain": [
              "array(['Yes', 'No', 'Maybe'], dtype=object)"
            ]
          },
          "metadata": {},
          "execution_count": 36
        }
      ],
      "source": [
        "df[\"growing_stress\"].unique()"
      ]
    },
    {
      "cell_type": "code",
      "execution_count": 37,
      "id": "d3b143b4-3330-4282-a625-68a016513f3c",
      "metadata": {
        "id": "d3b143b4-3330-4282-a625-68a016513f3c",
        "colab": {
          "base_uri": "https://localhost:8080/"
        },
        "outputId": "4b82015b-a8c0-4038-f47c-e150cdfd881a"
      },
      "outputs": [
        {
          "output_type": "execute_result",
          "data": {
            "text/plain": [
              "growing_stress\n",
              "Maybe    98225\n",
              "Yes      97854\n",
              "No       91083\n",
              "Name: count, dtype: int64"
            ]
          },
          "metadata": {},
          "execution_count": 37
        }
      ],
      "source": [
        "df['growing_stress'].value_counts()"
      ]
    },
    {
      "cell_type": "code",
      "execution_count": 38,
      "id": "51d589db-f83c-4efe-9653-62911ac9f11d",
      "metadata": {
        "id": "51d589db-f83c-4efe-9653-62911ac9f11d",
        "colab": {
          "base_uri": "https://localhost:8080/"
        },
        "outputId": "ccb22d30-bcc5-447e-d541-58790aee7dd4"
      },
      "outputs": [
        {
          "output_type": "execute_result",
          "data": {
            "text/plain": [
              "growing_stress\n",
              "Maybe    0.342054\n",
              "Yes      0.340762\n",
              "No       0.317183\n",
              "Name: proportion, dtype: float64"
            ]
          },
          "metadata": {},
          "execution_count": 38
        }
      ],
      "source": [
        "df['growing_stress'].value_counts(normalize=True)"
      ]
    },
    {
      "cell_type": "code",
      "execution_count": 38,
      "id": "8576effa-df9f-47f5-b948-83066fe26561",
      "metadata": {
        "id": "8576effa-df9f-47f5-b948-83066fe26561"
      },
      "outputs": [],
      "source": []
    },
    {
      "cell_type": "code",
      "execution_count": 39,
      "id": "2a90de56-5c07-4a77-b04b-ed1e8bd24f27",
      "metadata": {
        "id": "2a90de56-5c07-4a77-b04b-ed1e8bd24f27",
        "colab": {
          "base_uri": "https://localhost:8080/"
        },
        "outputId": "d1aaaa13-8dc0-4765-aa8a-40c134cef64d"
      },
      "outputs": [
        {
          "output_type": "execute_result",
          "data": {
            "text/plain": [
              "array(['Medium', 'Low', 'High'], dtype=object)"
            ]
          },
          "metadata": {},
          "execution_count": 39
        }
      ],
      "source": [
        "df[\"mood_swings\"].unique()"
      ]
    },
    {
      "cell_type": "code",
      "execution_count": 40,
      "id": "80fd6498-2d12-43e5-aad2-bab84938f09d",
      "metadata": {
        "id": "80fd6498-2d12-43e5-aad2-bab84938f09d",
        "colab": {
          "base_uri": "https://localhost:8080/"
        },
        "outputId": "8f2e8765-6550-4269-e43a-19e5a05f0027"
      },
      "outputs": [
        {
          "output_type": "execute_result",
          "data": {
            "text/plain": [
              "mood_swings\n",
              "Medium    99272\n",
              "Low       98062\n",
              "High      89828\n",
              "Name: count, dtype: int64"
            ]
          },
          "metadata": {},
          "execution_count": 40
        }
      ],
      "source": [
        "df['mood_swings'].value_counts()"
      ]
    },
    {
      "cell_type": "code",
      "execution_count": 41,
      "id": "a46f3e54-8b33-4ad6-a4a0-96b2e2128c6e",
      "metadata": {
        "id": "a46f3e54-8b33-4ad6-a4a0-96b2e2128c6e",
        "colab": {
          "base_uri": "https://localhost:8080/"
        },
        "outputId": "a22351e1-eae7-4399-e377-da6303c09023"
      },
      "outputs": [
        {
          "output_type": "execute_result",
          "data": {
            "text/plain": [
              "mood_swings\n",
              "Medium    0.345700\n",
              "Low       0.341487\n",
              "High      0.312813\n",
              "Name: proportion, dtype: float64"
            ]
          },
          "metadata": {},
          "execution_count": 41
        }
      ],
      "source": [
        "df['mood_swings'].value_counts(normalize=True)"
      ]
    },
    {
      "cell_type": "code",
      "execution_count": 41,
      "id": "a263ff3d-7314-4570-9e19-5299ef1e1f90",
      "metadata": {
        "id": "a263ff3d-7314-4570-9e19-5299ef1e1f90"
      },
      "outputs": [],
      "source": []
    },
    {
      "cell_type": "code",
      "execution_count": 42,
      "id": "153ea65e-5d5a-444e-80b8-3f5e133cb41d",
      "metadata": {
        "scrolled": true,
        "id": "153ea65e-5d5a-444e-80b8-3f5e133cb41d",
        "colab": {
          "base_uri": "https://localhost:8080/"
        },
        "outputId": "384d63e3-f25c-445a-cee1-5b9b6e5ca8d9"
      },
      "outputs": [
        {
          "output_type": "execute_result",
          "data": {
            "text/plain": [
              "array(['Yes', 'No'], dtype=object)"
            ]
          },
          "metadata": {},
          "execution_count": 42
        }
      ],
      "source": [
        "df[\"treatment\"].unique()"
      ]
    },
    {
      "cell_type": "code",
      "execution_count": 43,
      "id": "3ed389aa-c64f-4392-88c3-ef8047dc4571",
      "metadata": {
        "id": "3ed389aa-c64f-4392-88c3-ef8047dc4571",
        "colab": {
          "base_uri": "https://localhost:8080/"
        },
        "outputId": "f8774717-e396-40f1-bd49-96e9f446dfa8"
      },
      "outputs": [
        {
          "output_type": "execute_result",
          "data": {
            "text/plain": [
              "treatment\n",
              "Yes    144744\n",
              "No     142418\n",
              "Name: count, dtype: int64"
            ]
          },
          "metadata": {},
          "execution_count": 43
        }
      ],
      "source": [
        "df['treatment'].value_counts()"
      ]
    },
    {
      "cell_type": "code",
      "execution_count": 44,
      "id": "6dd32399-4dad-45f4-8a25-2bd038b55575",
      "metadata": {
        "id": "6dd32399-4dad-45f4-8a25-2bd038b55575",
        "colab": {
          "base_uri": "https://localhost:8080/"
        },
        "outputId": "247e4927-ff8b-4801-fc45-499f66270700"
      },
      "outputs": [
        {
          "output_type": "execute_result",
          "data": {
            "text/plain": [
              "treatment\n",
              "Yes    0.50405\n",
              "No     0.49595\n",
              "Name: proportion, dtype: float64"
            ]
          },
          "metadata": {},
          "execution_count": 44
        }
      ],
      "source": [
        "df['treatment'].value_counts(normalize=True)"
      ]
    },
    {
      "cell_type": "code",
      "execution_count": 44,
      "id": "b1cfc127-e01e-45e2-a9bd-7307bcaf3b4a",
      "metadata": {
        "id": "b1cfc127-e01e-45e2-a9bd-7307bcaf3b4a"
      },
      "outputs": [],
      "source": []
    },
    {
      "cell_type": "code",
      "execution_count": 45,
      "id": "cbf43132-b786-4da4-b967-2c5f038666e8",
      "metadata": {
        "id": "cbf43132-b786-4da4-b967-2c5f038666e8",
        "colab": {
          "base_uri": "https://localhost:8080/"
        },
        "outputId": "fd862bec-d389-4b50-990a-61d52d5a58fa"
      },
      "outputs": [
        {
          "output_type": "execute_result",
          "data": {
            "text/plain": [
              "array(['Corporate', 'Student', 'Business', 'Housewife', 'Others'],\n",
              "      dtype=object)"
            ]
          },
          "metadata": {},
          "execution_count": 45
        }
      ],
      "source": [
        "df['occupation'].unique()"
      ]
    },
    {
      "cell_type": "code",
      "execution_count": 46,
      "id": "fe9ebf70-841f-42d9-91e5-06523cb82fc7",
      "metadata": {
        "id": "fe9ebf70-841f-42d9-91e5-06523cb82fc7",
        "colab": {
          "base_uri": "https://localhost:8080/"
        },
        "outputId": "2bdf502e-d6f9-478c-957f-e604d9e913c5"
      },
      "outputs": [
        {
          "output_type": "execute_result",
          "data": {
            "text/plain": [
              "occupation\n",
              "Housewife    65173\n",
              "Student      60687\n",
              "Corporate    60157\n",
              "Others       51893\n",
              "Business     49252\n",
              "Name: count, dtype: int64"
            ]
          },
          "metadata": {},
          "execution_count": 46
        }
      ],
      "source": [
        "df['occupation'].value_counts()"
      ]
    },
    {
      "cell_type": "code",
      "execution_count": 47,
      "id": "313d5859-8dfa-48c8-81d5-eb3b17ba89c2",
      "metadata": {
        "id": "313d5859-8dfa-48c8-81d5-eb3b17ba89c2",
        "colab": {
          "base_uri": "https://localhost:8080/"
        },
        "outputId": "184670f8-f22c-4ec1-8db3-69ce02f9a4c6"
      },
      "outputs": [
        {
          "output_type": "execute_result",
          "data": {
            "text/plain": [
              "occupation\n",
              "Housewife    0.226956\n",
              "Student      0.211334\n",
              "Corporate    0.209488\n",
              "Others       0.180710\n",
              "Business     0.171513\n",
              "Name: proportion, dtype: float64"
            ]
          },
          "metadata": {},
          "execution_count": 47
        }
      ],
      "source": [
        "df['occupation'].value_counts(normalize=True)"
      ]
    },
    {
      "cell_type": "code",
      "execution_count": 47,
      "id": "d622ccdd-0345-4d8e-a22c-d879934405df",
      "metadata": {
        "id": "d622ccdd-0345-4d8e-a22c-d879934405df"
      },
      "outputs": [],
      "source": []
    },
    {
      "cell_type": "code",
      "execution_count": 48,
      "id": "26cba95d-d391-40bc-8867-dda7a3d9db77",
      "metadata": {
        "id": "26cba95d-d391-40bc-8867-dda7a3d9db77",
        "colab": {
          "base_uri": "https://localhost:8080/"
        },
        "outputId": "42314e90-40b4-4589-dadb-e4a80a2f148b"
      },
      "outputs": [
        {
          "output_type": "execute_result",
          "data": {
            "text/plain": [
              "gender\n",
              "Male      235950\n",
              "Female     51212\n",
              "Name: count, dtype: int64"
            ]
          },
          "metadata": {},
          "execution_count": 48
        }
      ],
      "source": [
        "df['gender'].value_counts()"
      ]
    },
    {
      "cell_type": "code",
      "execution_count": 49,
      "id": "eadab541-bca8-49d4-aac0-c3a6014b8a70",
      "metadata": {
        "id": "eadab541-bca8-49d4-aac0-c3a6014b8a70",
        "colab": {
          "base_uri": "https://localhost:8080/"
        },
        "outputId": "72a1bd69-60cb-4c0c-da5e-e4d087f820ee"
      },
      "outputs": [
        {
          "output_type": "execute_result",
          "data": {
            "text/plain": [
              "gender\n",
              "Male      0.821662\n",
              "Female    0.178338\n",
              "Name: proportion, dtype: float64"
            ]
          },
          "metadata": {},
          "execution_count": 49
        }
      ],
      "source": [
        "df['gender'].value_counts(normalize=True)"
      ]
    },
    {
      "cell_type": "code",
      "execution_count": 50,
      "id": "aaad39e8-6c7e-45ce-ac94-0e19582b8e35",
      "metadata": {
        "id": "aaad39e8-6c7e-45ce-ac94-0e19582b8e35",
        "colab": {
          "base_uri": "https://localhost:8080/",
          "height": 464
        },
        "outputId": "84c04afe-098f-4c69-8463-b1dc44fb225b"
      },
      "outputs": [
        {
          "output_type": "execute_result",
          "data": {
            "text/plain": [
              "Text(0.5, 1.0, 'Gender proportion')"
            ]
          },
          "metadata": {},
          "execution_count": 50
        },
        {
          "output_type": "display_data",
          "data": {
            "text/plain": [
              "<Figure size 500x500 with 1 Axes>"
            ],
            "image/png": "[encoded data removed]"
          },
          "metadata": {}
        }
      ],
      "source": [
        "labels = ['Male', 'Female']\n",
        "sizes = [0.821662, 0.178338]\n",
        "colors = ['#66b3ff', '#ff9999']  # Цвета для каждой категории (можете настроить по вашему вкусу)\n",
        "explode = (0.1, 0)  # Выделение сегмента для \"No\"\n",
        "\n",
        "# Построение круговой диаграммы\n",
        "plt.figure(figsize=(5, 5))\n",
        "plt.pie(sizes, explode=explode, labels=labels, colors=colors, autopct='%1.1f%%', startangle=140, textprops={'fontsize': 12})\n",
        "plt.axis('equal')  # Позволяет создать круговую диаграмму в виде круга\n",
        "plt.title('Gender proportion', fontsize=15)"
      ]
    },
    {
      "cell_type": "code",
      "execution_count": 51,
      "id": "6a947217-2c41-45bc-8831-33ea82c3fa9c",
      "metadata": {
        "id": "6a947217-2c41-45bc-8831-33ea82c3fa9c",
        "colab": {
          "base_uri": "https://localhost:8080/"
        },
        "outputId": "4832be61-a166-4af2-894e-0a8fd98a5c9d"
      },
      "outputs": [
        {
          "output_type": "execute_result",
          "data": {
            "text/plain": [
              "treatment\n",
              "Yes    144744\n",
              "No     142418\n",
              "Name: count, dtype: int64"
            ]
          },
          "metadata": {},
          "execution_count": 51
        }
      ],
      "source": [
        "df['treatment'].value_counts()"
      ]
    },
    {
      "cell_type": "code",
      "execution_count": 52,
      "id": "9336f295-1e27-479c-a3d3-9dfe2ab5cac2",
      "metadata": {
        "id": "9336f295-1e27-479c-a3d3-9dfe2ab5cac2",
        "colab": {
          "base_uri": "https://localhost:8080/"
        },
        "outputId": "083dfb56-3833-4ac1-8928-8b7d578852ef"
      },
      "outputs": [
        {
          "output_type": "execute_result",
          "data": {
            "text/plain": [
              "treatment\n",
              "Yes    0.50405\n",
              "No     0.49595\n",
              "Name: proportion, dtype: float64"
            ]
          },
          "metadata": {},
          "execution_count": 52
        }
      ],
      "source": [
        "df['treatment'].value_counts(normalize=True)"
      ]
    },
    {
      "cell_type": "code",
      "execution_count": 52,
      "id": "528aae3b",
      "metadata": {
        "id": "528aae3b"
      },
      "outputs": [],
      "source": []
    },
    {
      "cell_type": "code",
      "execution_count": 53,
      "id": "7c505d48-640e-4f87-9613-0b9b0c951c90",
      "metadata": {
        "id": "7c505d48-640e-4f87-9613-0b9b0c951c90",
        "colab": {
          "base_uri": "https://localhost:8080/"
        },
        "outputId": "4f13f601-41ae-42dd-9497-09ee4fa38cf8"
      },
      "outputs": [
        {
          "output_type": "execute_result",
          "data": {
            "text/plain": [
              "self_employed\n",
              "No     257994\n",
              "Yes     29168\n",
              "Name: count, dtype: int64"
            ]
          },
          "metadata": {},
          "execution_count": 53
        }
      ],
      "source": [
        "df['self_employed'].value_counts()"
      ]
    },
    {
      "cell_type": "code",
      "execution_count": 54,
      "id": "d96fde9b",
      "metadata": {
        "id": "d96fde9b",
        "colab": {
          "base_uri": "https://localhost:8080/"
        },
        "outputId": "a2350eb6-eb8d-4f17-86f5-97e2b3d107aa"
      },
      "outputs": [
        {
          "output_type": "execute_result",
          "data": {
            "text/plain": [
              "self_employed\n",
              "No     0.898427\n",
              "Yes    0.101573\n",
              "Name: proportion, dtype: float64"
            ]
          },
          "metadata": {},
          "execution_count": 54
        }
      ],
      "source": [
        "df['self_employed'].value_counts(normalize=True)"
      ]
    },
    {
      "cell_type": "code",
      "execution_count": 55,
      "id": "72958dca-5e88-4547-809c-b179ee512271",
      "metadata": {
        "id": "72958dca-5e88-4547-809c-b179ee512271",
        "colab": {
          "base_uri": "https://localhost:8080/",
          "height": 463
        },
        "outputId": "4811ac9c-0d31-49a0-8e3e-ea2a5597fac5"
      },
      "outputs": [
        {
          "output_type": "execute_result",
          "data": {
            "text/plain": [
              "Text(0.5, 1.0, 'Self-employed respondent proportion')"
            ]
          },
          "metadata": {},
          "execution_count": 55
        },
        {
          "output_type": "display_data",
          "data": {
            "text/plain": [
              "<Figure size 500x500 with 1 Axes>"
            ],
            "image/png": "[encoded data removed]"
          },
          "metadata": {}
        }
      ],
      "source": [
        "labels = ['No', 'Yes']\n",
        "sizes = [0.898427, 0.101573]\n",
        "colors = ['#9370DB', '#F0E68C']  # Цвета для каждой категории (можете настроить по вашему вкусу)\n",
        "explode = (0.1, 0)  # Выделение сегмента для \"No\"\n",
        "\n",
        "# Построение круговой диаграммы\n",
        "plt.figure(figsize=(5, 5))\n",
        "plt.pie(sizes, explode=explode, labels=labels, colors=colors, autopct='%1.1f%%', startangle=140, textprops={'fontsize': 12})\n",
        "plt.axis('equal')  # Позволяет создать круговую диаграмму в виде круга\n",
        "plt.title('Self-employed respondent proportion', fontsize=14)"
      ]
    },
    {
      "cell_type": "code",
      "execution_count": 56,
      "id": "dae133fb",
      "metadata": {
        "id": "dae133fb"
      },
      "outputs": [],
      "source": [
        "# Группировка (сегментация) и подсчет количества ответов по переменной growing_stress и country\n",
        "stress_by_country = df.groupby(['growing_stress', 'country']).size().unstack()\n",
        "\n",
        "# Группировка и подсчет количества ответов по переменной growing_stress и gender\n",
        "stress_by_gender = df.groupby(['growing_stress', 'gender']).size().unstack()\n",
        "\n",
        "# Группировка и подсчет количества ответов по переменной growing_stress и occupation\n",
        "stress_by_occupation = df.groupby(['growing_stress', 'occupation']).size().unstack()\n",
        "\n",
        "# Группировка и подсчет количества ответов по переменной growing_stress и self_employed\n",
        "stress_by_self_employed = df.groupby(['growing_stress', 'self_employed']).size().unstack()\n",
        "\n",
        "# Группировка и подсчет количества ответов по переменной mood_swings и treatment\n",
        "mood_by_treatment = df.groupby(['mood_swings', 'treatment']).size().unstack()\n",
        "\n",
        "# Группировка и подсчет количества ответов по переменной growing_stress и treatment\n",
        "growing_stress_by_treatment = df.groupby(['growing_stress', 'treatment']).size().unstack()"
      ]
    },
    {
      "cell_type": "code",
      "execution_count": 57,
      "id": "ad7fc513",
      "metadata": {
        "id": "ad7fc513",
        "colab": {
          "base_uri": "https://localhost:8080/",
          "height": 241
        },
        "outputId": "47cdb97e-00c2-4e77-8cdd-1cecd3830279"
      },
      "outputs": [
        {
          "output_type": "execute_result",
          "data": {
            "text/plain": [
              "country         Australia  Belgium  Bosnia and Herzegovina  Brazil  Canada  \\\n",
              "growing_stress                                                               \n",
              "Maybe                2027      267                     137     822    5965   \n",
              "No                   1899      256                     125     750    5554   \n",
              "Yes                  2100      301                     128     768    6037   \n",
              "\n",
              "country         Colombia  Costa Rica  Croatia  Czech Republic  Denmark  ...  \\\n",
              "growing_stress                                                          ...   \n",
              "Maybe                137         137      137             137      274  ...   \n",
              "No                   125         125      125             125      250  ...   \n",
              "Yes                  128         128      128             128      256  ...   \n",
              "\n",
              "country         Poland  Portugal  Russia  Singapore  South Africa  Sweden  \\\n",
              "growing_stress                                                              \n",
              "Maybe              267       137     274        274           678     945   \n",
              "No                 256       125     250        250           631     887   \n",
              "Yes                301       128     256        256           685     986   \n",
              "\n",
              "country         Switzerland  Thailand  United Kingdom  United States  \n",
              "growing_stress                                                        \n",
              "Maybe                   548       137           17424          57261  \n",
              "No                      500       125           16096          53224  \n",
              "Yes                     512       128           17104          57571  \n",
              "\n",
              "[3 rows x 35 columns]"
            ],
            "text/html": [
              "\n",
              "  <div id=\"df-9419880e-af5c-48e6-a3a6-624f37f0a8d1\" class=\"colab-df-container\">\n",
              "    <div>\n",
              "<style scoped>\n",
              "    .dataframe tbody tr th:only-of-type {\n",
              "        vertical-align: middle;\n",
              "    }\n",
              "\n",
              "    .dataframe tbody tr th {\n",
              "        vertical-align: top;\n",
              "    }\n",
              "\n",
              "    .dataframe thead th {\n",
              "        text-align: right;\n",
              "    }\n",
              "</style>\n",
              "<table border=\"1\" class=\"dataframe\">\n",
              "  <thead>\n",
              "    <tr style=\"text-align: right;\">\n",
              "      <th>country</th>\n",
              "      <th>Australia</th>\n",
              "      <th>Belgium</th>\n",
              "      <th>Bosnia and Herzegovina</th>\n",
              "      <th>Brazil</th>\n",
              "      <th>Canada</th>\n",
              "      <th>Colombia</th>\n",
              "      <th>Costa Rica</th>\n",
              "      <th>Croatia</th>\n",
              "      <th>Czech Republic</th>\n",
              "      <th>Denmark</th>\n",
              "      <th>...</th>\n",
              "      <th>Poland</th>\n",
              "      <th>Portugal</th>\n",
              "      <th>Russia</th>\n",
              "      <th>Singapore</th>\n",
              "      <th>South Africa</th>\n",
              "      <th>Sweden</th>\n",
              "      <th>Switzerland</th>\n",
              "      <th>Thailand</th>\n",
              "      <th>United Kingdom</th>\n",
              "      <th>United States</th>\n",
              "    </tr>\n",
              "    <tr>\n",
              "      <th>growing_stress</th>\n",
              "      <th></th>\n",
              "      <th></th>\n",
              "      <th></th>\n",
              "      <th></th>\n",
              "      <th></th>\n",
              "      <th></th>\n",
              "      <th></th>\n",
              "      <th></th>\n",
              "      <th></th>\n",
              "      <th></th>\n",
              "      <th></th>\n",
              "      <th></th>\n",
              "      <th></th>\n",
              "      <th></th>\n",
              "      <th></th>\n",
              "      <th></th>\n",
              "      <th></th>\n",
              "      <th></th>\n",
              "      <th></th>\n",
              "      <th></th>\n",
              "      <th></th>\n",
              "    </tr>\n",
              "  </thead>\n",
              "  <tbody>\n",
              "    <tr>\n",
              "      <th>Maybe</th>\n",
              "      <td>2027</td>\n",
              "      <td>267</td>\n",
              "      <td>137</td>\n",
              "      <td>822</td>\n",
              "      <td>5965</td>\n",
              "      <td>137</td>\n",
              "      <td>137</td>\n",
              "      <td>137</td>\n",
              "      <td>137</td>\n",
              "      <td>274</td>\n",
              "      <td>...</td>\n",
              "      <td>267</td>\n",
              "      <td>137</td>\n",
              "      <td>274</td>\n",
              "      <td>274</td>\n",
              "      <td>678</td>\n",
              "      <td>945</td>\n",
              "      <td>548</td>\n",
              "      <td>137</td>\n",
              "      <td>17424</td>\n",
              "      <td>57261</td>\n",
              "    </tr>\n",
              "    <tr>\n",
              "      <th>No</th>\n",
              "      <td>1899</td>\n",
              "      <td>256</td>\n",
              "      <td>125</td>\n",
              "      <td>750</td>\n",
              "      <td>5554</td>\n",
              "      <td>125</td>\n",
              "      <td>125</td>\n",
              "      <td>125</td>\n",
              "      <td>125</td>\n",
              "      <td>250</td>\n",
              "      <td>...</td>\n",
              "      <td>256</td>\n",
              "      <td>125</td>\n",
              "      <td>250</td>\n",
              "      <td>250</td>\n",
              "      <td>631</td>\n",
              "      <td>887</td>\n",
              "      <td>500</td>\n",
              "      <td>125</td>\n",
              "      <td>16096</td>\n",
              "      <td>53224</td>\n",
              "    </tr>\n",
              "    <tr>\n",
              "      <th>Yes</th>\n",
              "      <td>2100</td>\n",
              "      <td>301</td>\n",
              "      <td>128</td>\n",
              "      <td>768</td>\n",
              "      <td>6037</td>\n",
              "      <td>128</td>\n",
              "      <td>128</td>\n",
              "      <td>128</td>\n",
              "      <td>128</td>\n",
              "      <td>256</td>\n",
              "      <td>...</td>\n",
              "      <td>301</td>\n",
              "      <td>128</td>\n",
              "      <td>256</td>\n",
              "      <td>256</td>\n",
              "      <td>685</td>\n",
              "      <td>986</td>\n",
              "      <td>512</td>\n",
              "      <td>128</td>\n",
              "      <td>17104</td>\n",
              "      <td>57571</td>\n",
              "    </tr>\n",
              "  </tbody>\n",
              "</table>\n",
              "<p>3 rows × 35 columns</p>\n",
              "</div>\n",
              "    <div class=\"colab-df-buttons\">\n",
              "\n",
              "  <div class=\"colab-df-container\">\n",
              "    <button class=\"colab-df-convert\" onclick=\"convertToInteractive('df-9419880e-af5c-48e6-a3a6-624f37f0a8d1')\"\n",
              "            title=\"Convert this dataframe to an interactive table.\"\n",
              "            style=\"display:none;\">\n",
              "\n",
              "  <svg xmlns=\"http://www.w3.org/2000/svg\" height=\"24px\" viewBox=\"0 -960 960 960\">\n",
              "    <path d=\"M120-120v-720h720v720H120Zm60-500h600v-160H180v160Zm220 220h160v-160H400v160Zm0 220h160v-160H400v160ZM180-400h160v-160H180v160Zm440 0h160v-160H620v160ZM180-180h160v-160H180v160Zm440 0h160v-160H620v160Z\"/>\n",
              "  </svg>\n",
              "    </button>\n",
              "\n",
              "  <style>\n",
              "    .colab-df-container {\n",
              "      display:flex;\n",
              "      gap: 12px;\n",
              "    }\n",
              "\n",
              "    .colab-df-convert {\n",
              "      background-color: #E8F0FE;\n",
              "      border: none;\n",
              "      border-radius: 50%;\n",
              "      cursor: pointer;\n",
              "      display: none;\n",
              "      fill: #1967D2;\n",
              "      height: 32px;\n",
              "      padding: 0 0 0 0;\n",
              "      width: 32px;\n",
              "    }\n",
              "\n",
              "    .colab-df-convert:hover {\n",
              "      background-color: #E2EBFA;\n",
              "      box-shadow: 0px 1px 2px rgba(60, 64, 67, 0.3), 0px 1px 3px 1px rgba(60, 64, 67, 0.15);\n",
              "      fill: #174EA6;\n",
              "    }\n",
              "\n",
              "    .colab-df-buttons div {\n",
              "      margin-bottom: 4px;\n",
              "    }\n",
              "\n",
              "    [theme=dark] .colab-df-convert {\n",
              "      background-color: #3B4455;\n",
              "      fill: #D2E3FC;\n",
              "    }\n",
              "\n",
              "    [theme=dark] .colab-df-convert:hover {\n",
              "      background-color: #434B5C;\n",
              "      box-shadow: 0px 1px 3px 1px rgba(0, 0, 0, 0.15);\n",
              "      filter: drop-shadow(0px 1px 2px rgba(0, 0, 0, 0.3));\n",
              "      fill: #FFFFFF;\n",
              "    }\n",
              "  </style>\n",
              "\n",
              "    <script>\n",
              "      const buttonEl =\n",
              "        document.querySelector('#df-9419880e-af5c-48e6-a3a6-624f37f0a8d1 button.colab-df-convert');\n",
              "      buttonEl.style.display =\n",
              "        google.colab.kernel.accessAllowed ? 'block' : 'none';\n",
              "\n",
              "      async function convertToInteractive(key) {\n",
              "        const element = document.querySelector('#df-9419880e-af5c-48e6-a3a6-624f37f0a8d1');\n",
              "        const dataTable =\n",
              "          await google.colab.kernel.invokeFunction('convertToInteractive',\n",
              "                                                    [key], {});\n",
              "        if (!dataTable) return;\n",
              "\n",
              "        const docLinkHtml = 'Like what you see? Visit the ' +\n",
              "          '<a target=\"_blank\" href=https://colab.research.google.com/notebooks/data_table.ipynb>data table notebook</a>'\n",
              "          + ' to learn more about interactive tables.';\n",
              "        element.innerHTML = '';\n",
              "        dataTable['output_type'] = 'display_data';\n",
              "        await google.colab.output.renderOutput(dataTable, element);\n",
              "        const docLink = document.createElement('div');\n",
              "        docLink.innerHTML = docLinkHtml;\n",
              "        element.appendChild(docLink);\n",
              "      }\n",
              "    </script>\n",
              "  </div>\n",
              "\n",
              "\n",
              "<div id=\"df-9b4d6822-ab07-4397-a3ab-2a5446cf87e1\">\n",
              "  <button class=\"colab-df-quickchart\" onclick=\"quickchart('df-9b4d6822-ab07-4397-a3ab-2a5446cf87e1')\"\n",
              "            title=\"Suggest charts\"\n",
              "            style=\"display:none;\">\n",
              "\n",
              "<svg xmlns=\"http://www.w3.org/2000/svg\" height=\"24px\"viewBox=\"0 0 24 24\"\n",
              "     width=\"24px\">\n",
              "    <g>\n",
              "        <path d=\"M19 3H5c-1.1 0-2 .9-2 2v14c0 1.1.9 2 2 2h14c1.1 0 2-.9 2-2V5c0-1.1-.9-2-2-2zM9 17H7v-7h2v7zm4 0h-2V7h2v10zm4 0h-2v-4h2v4z\"/>\n",
              "    </g>\n",
              "</svg>\n",
              "  </button>\n",
              "\n",
              "<style>\n",
              "  .colab-df-quickchart {\n",
              "      --bg-color: #E8F0FE;\n",
              "      --fill-color: #1967D2;\n",
              "      --hover-bg-color: #E2EBFA;\n",
              "      --hover-fill-color: #174EA6;\n",
              "      --disabled-fill-color: #AAA;\n",
              "      --disabled-bg-color: #DDD;\n",
              "  }\n",
              "\n",
              "  [theme=dark] .colab-df-quickchart {\n",
              "      --bg-color: #3B4455;\n",
              "      --fill-color: #D2E3FC;\n",
              "      --hover-bg-color: #434B5C;\n",
              "      --hover-fill-color: #FFFFFF;\n",
              "      --disabled-bg-color: #3B4455;\n",
              "      --disabled-fill-color: #666;\n",
              "  }\n",
              "\n",
              "  .colab-df-quickchart {\n",
              "    background-color: var(--bg-color);\n",
              "    border: none;\n",
              "    border-radius: 50%;\n",
              "    cursor: pointer;\n",
              "    display: none;\n",
              "    fill: var(--fill-color);\n",
              "    height: 32px;\n",
              "    padding: 0;\n",
              "    width: 32px;\n",
              "  }\n",
              "\n",
              "  .colab-df-quickchart:hover {\n",
              "    background-color: var(--hover-bg-color);\n",
              "    box-shadow: 0 1px 2px rgba(60, 64, 67, 0.3), 0 1px 3px 1px rgba(60, 64, 67, 0.15);\n",
              "    fill: var(--button-hover-fill-color);\n",
              "  }\n",
              "\n",
              "  .colab-df-quickchart-complete:disabled,\n",
              "  .colab-df-quickchart-complete:disabled:hover {\n",
              "    background-color: var(--disabled-bg-color);\n",
              "    fill: var(--disabled-fill-color);\n",
              "    box-shadow: none;\n",
              "  }\n",
              "\n",
              "  .colab-df-spinner {\n",
              "    border: 2px solid var(--fill-color);\n",
              "    border-color: transparent;\n",
              "    border-bottom-color: var(--fill-color);\n",
              "    animation:\n",
              "      spin 1s steps(1) infinite;\n",
              "  }\n",
              "\n",
              "  @keyframes spin {\n",
              "    0% {\n",
              "      border-color: transparent;\n",
              "      border-bottom-color: var(--fill-color);\n",
              "      border-left-color: var(--fill-color);\n",
              "    }\n",
              "    20% {\n",
              "      border-color: transparent;\n",
              "      border-left-color: var(--fill-color);\n",
              "      border-top-color: var(--fill-color);\n",
              "    }\n",
              "    30% {\n",
              "      border-color: transparent;\n",
              "      border-left-color: var(--fill-color);\n",
              "      border-top-color: var(--fill-color);\n",
              "      border-right-color: var(--fill-color);\n",
              "    }\n",
              "    40% {\n",
              "      border-color: transparent;\n",
              "      border-right-color: var(--fill-color);\n",
              "      border-top-color: var(--fill-color);\n",
              "    }\n",
              "    60% {\n",
              "      border-color: transparent;\n",
              "      border-right-color: var(--fill-color);\n",
              "    }\n",
              "    80% {\n",
              "      border-color: transparent;\n",
              "      border-right-color: var(--fill-color);\n",
              "      border-bottom-color: var(--fill-color);\n",
              "    }\n",
              "    90% {\n",
              "      border-color: transparent;\n",
              "      border-bottom-color: var(--fill-color);\n",
              "    }\n",
              "  }\n",
              "</style>\n",
              "\n",
              "  <script>\n",
              "    async function quickchart(key) {\n",
              "      const quickchartButtonEl =\n",
              "        document.querySelector('#' + key + ' button');\n",
              "      quickchartButtonEl.disabled = true;  // To prevent multiple clicks.\n",
              "      quickchartButtonEl.classList.add('colab-df-spinner');\n",
              "      try {\n",
              "        const charts = await google.colab.kernel.invokeFunction(\n",
              "            'suggestCharts', [key], {});\n",
              "      } catch (error) {\n",
              "        console.error('Error during call to suggestCharts:', error);\n",
              "      }\n",
              "      quickchartButtonEl.classList.remove('colab-df-spinner');\n",
              "      quickchartButtonEl.classList.add('colab-df-quickchart-complete');\n",
              "    }\n",
              "    (() => {\n",
              "      let quickchartButtonEl =\n",
              "        document.querySelector('#df-9b4d6822-ab07-4397-a3ab-2a5446cf87e1 button');\n",
              "      quickchartButtonEl.style.display =\n",
              "        google.colab.kernel.accessAllowed ? 'block' : 'none';\n",
              "    })();\n",
              "  </script>\n",
              "</div>\n",
              "    </div>\n",
              "  </div>\n"
            ],
            "application/vnd.google.colaboratory.intrinsic+json": {
              "type": "dataframe",
              "variable_name": "stress_by_country"
            }
          },
          "metadata": {},
          "execution_count": 57
        }
      ],
      "source": [
        "stress_by_country"
      ]
    },
    {
      "cell_type": "code",
      "execution_count": 58,
      "id": "247e2d26-dd4c-4837-9a17-da15cc161f6a",
      "metadata": {
        "id": "247e2d26-dd4c-4837-9a17-da15cc161f6a",
        "colab": {
          "base_uri": "https://localhost:8080/",
          "height": 764
        },
        "outputId": "5d2d30b7-893f-47d3-eea1-a89458cf95b6"
      },
      "outputs": [
        {
          "output_type": "stream",
          "name": "stderr",
          "text": [
            "<ipython-input-58-451b7563376c>:4: UserWarning: The palette list has more values (8) than needed (3), which may not be intended.\n",
            "  sns.countplot(data=df,\n"
          ]
        },
        {
          "output_type": "display_data",
          "data": {
            "text/plain": [
              "<Figure size 1600x800 with 1 Axes>"
            ],
            "image/png": "[encoded data removed]"
          },
          "metadata": {}
        }
      ],
      "source": [
        "plt.figure(figsize=(16, 8))\n",
        "colors = sns.color_palette(\"hls\", 8)\n",
        "\n",
        "sns.countplot(data=df,\n",
        "              x='country',\n",
        "              hue='growing_stress',\n",
        "              palette=colors)\n",
        "\n",
        "plt.title('Growing stress in different countries', fontsize=20)\n",
        "plt.ylabel('Number of responses', fontsize=15)    #как увеличить значения шкалы по оси y?\n",
        "plt.xlabel('Country', fontsize=15)\n",
        "\n",
        "bins=25\n",
        "plt.xticks(rotation=90, ha='right', fontsize=13)\n",
        "plt.legend(title='Growing Stress', title_fontsize='large', fontsize='large')\n",
        "plt.yscale('log')"
      ]
    },
    {
      "cell_type": "code",
      "execution_count": 59,
      "id": "4e2d5350",
      "metadata": {
        "id": "4e2d5350",
        "colab": {
          "base_uri": "https://localhost:8080/",
          "height": 175
        },
        "outputId": "6f62371e-8b23-4884-c436-4094a3a36fd8"
      },
      "outputs": [
        {
          "output_type": "execute_result",
          "data": {
            "text/plain": [
              "gender          Female   Male\n",
              "growing_stress               \n",
              "Maybe            15340  82885\n",
              "No               15458  75625\n",
              "Yes              20414  77440"
            ],
            "text/html": [
              "\n",
              "  <div id=\"df-ed437d15-a451-493e-8574-0d93a770c18a\" class=\"colab-df-container\">\n",
              "    <div>\n",
              "<style scoped>\n",
              "    .dataframe tbody tr th:only-of-type {\n",
              "        vertical-align: middle;\n",
              "    }\n",
              "\n",
              "    .dataframe tbody tr th {\n",
              "        vertical-align: top;\n",
              "    }\n",
              "\n",
              "    .dataframe thead th {\n",
              "        text-align: right;\n",
              "    }\n",
              "</style>\n",
              "<table border=\"1\" class=\"dataframe\">\n",
              "  <thead>\n",
              "    <tr style=\"text-align: right;\">\n",
              "      <th>gender</th>\n",
              "      <th>Female</th>\n",
              "      <th>Male</th>\n",
              "    </tr>\n",
              "    <tr>\n",
              "      <th>growing_stress</th>\n",
              "      <th></th>\n",
              "      <th></th>\n",
              "    </tr>\n",
              "  </thead>\n",
              "  <tbody>\n",
              "    <tr>\n",
              "      <th>Maybe</th>\n",
              "      <td>15340</td>\n",
              "      <td>82885</td>\n",
              "    </tr>\n",
              "    <tr>\n",
              "      <th>No</th>\n",
              "      <td>15458</td>\n",
              "      <td>75625</td>\n",
              "    </tr>\n",
              "    <tr>\n",
              "      <th>Yes</th>\n",
              "      <td>20414</td>\n",
              "      <td>77440</td>\n",
              "    </tr>\n",
              "  </tbody>\n",
              "</table>\n",
              "</div>\n",
              "    <div class=\"colab-df-buttons\">\n",
              "\n",
              "  <div class=\"colab-df-container\">\n",
              "    <button class=\"colab-df-convert\" onclick=\"convertToInteractive('df-ed437d15-a451-493e-8574-0d93a770c18a')\"\n",
              "            title=\"Convert this dataframe to an interactive table.\"\n",
              "            style=\"display:none;\">\n",
              "\n",
              "  <svg xmlns=\"http://www.w3.org/2000/svg\" height=\"24px\" viewBox=\"0 -960 960 960\">\n",
              "    <path d=\"M120-120v-720h720v720H120Zm60-500h600v-160H180v160Zm220 220h160v-160H400v160Zm0 220h160v-160H400v160ZM180-400h160v-160H180v160Zm440 0h160v-160H620v160ZM180-180h160v-160H180v160Zm440 0h160v-160H620v160Z\"/>\n",
              "  </svg>\n",
              "    </button>\n",
              "\n",
              "  <style>\n",
              "    .colab-df-container {\n",
              "      display:flex;\n",
              "      gap: 12px;\n",
              "    }\n",
              "\n",
              "    .colab-df-convert {\n",
              "      background-color: #E8F0FE;\n",
              "      border: none;\n",
              "      border-radius: 50%;\n",
              "      cursor: pointer;\n",
              "      display: none;\n",
              "      fill: #1967D2;\n",
              "      height: 32px;\n",
              "      padding: 0 0 0 0;\n",
              "      width: 32px;\n",
              "    }\n",
              "\n",
              "    .colab-df-convert:hover {\n",
              "      background-color: #E2EBFA;\n",
              "      box-shadow: 0px 1px 2px rgba(60, 64, 67, 0.3), 0px 1px 3px 1px rgba(60, 64, 67, 0.15);\n",
              "      fill: #174EA6;\n",
              "    }\n",
              "\n",
              "    .colab-df-buttons div {\n",
              "      margin-bottom: 4px;\n",
              "    }\n",
              "\n",
              "    [theme=dark] .colab-df-convert {\n",
              "      background-color: #3B4455;\n",
              "      fill: #D2E3FC;\n",
              "    }\n",
              "\n",
              "    [theme=dark] .colab-df-convert:hover {\n",
              "      background-color: #434B5C;\n",
              "      box-shadow: 0px 1px 3px 1px rgba(0, 0, 0, 0.15);\n",
              "      filter: drop-shadow(0px 1px 2px rgba(0, 0, 0, 0.3));\n",
              "      fill: #FFFFFF;\n",
              "    }\n",
              "  </style>\n",
              "\n",
              "    <script>\n",
              "      const buttonEl =\n",
              "        document.querySelector('#df-ed437d15-a451-493e-8574-0d93a770c18a button.colab-df-convert');\n",
              "      buttonEl.style.display =\n",
              "        google.colab.kernel.accessAllowed ? 'block' : 'none';\n",
              "\n",
              "      async function convertToInteractive(key) {\n",
              "        const element = document.querySelector('#df-ed437d15-a451-493e-8574-0d93a770c18a');\n",
              "        const dataTable =\n",
              "          await google.colab.kernel.invokeFunction('convertToInteractive',\n",
              "                                                    [key], {});\n",
              "        if (!dataTable) return;\n",
              "\n",
              "        const docLinkHtml = 'Like what you see? Visit the ' +\n",
              "          '<a target=\"_blank\" href=https://colab.research.google.com/notebooks/data_table.ipynb>data table notebook</a>'\n",
              "          + ' to learn more about interactive tables.';\n",
              "        element.innerHTML = '';\n",
              "        dataTable['output_type'] = 'display_data';\n",
              "        await google.colab.output.renderOutput(dataTable, element);\n",
              "        const docLink = document.createElement('div');\n",
              "        docLink.innerHTML = docLinkHtml;\n",
              "        element.appendChild(docLink);\n",
              "      }\n",
              "    </script>\n",
              "  </div>\n",
              "\n",
              "\n",
              "<div id=\"df-fe398f84-aaef-433a-8dfa-bec88d8135f8\">\n",
              "  <button class=\"colab-df-quickchart\" onclick=\"quickchart('df-fe398f84-aaef-433a-8dfa-bec88d8135f8')\"\n",
              "            title=\"Suggest charts\"\n",
              "            style=\"display:none;\">\n",
              "\n",
              "<svg xmlns=\"http://www.w3.org/2000/svg\" height=\"24px\"viewBox=\"0 0 24 24\"\n",
              "     width=\"24px\">\n",
              "    <g>\n",
              "        <path d=\"M19 3H5c-1.1 0-2 .9-2 2v14c0 1.1.9 2 2 2h14c1.1 0 2-.9 2-2V5c0-1.1-.9-2-2-2zM9 17H7v-7h2v7zm4 0h-2V7h2v10zm4 0h-2v-4h2v4z\"/>\n",
              "    </g>\n",
              "</svg>\n",
              "  </button>\n",
              "\n",
              "<style>\n",
              "  .colab-df-quickchart {\n",
              "      --bg-color: #E8F0FE;\n",
              "      --fill-color: #1967D2;\n",
              "      --hover-bg-color: #E2EBFA;\n",
              "      --hover-fill-color: #174EA6;\n",
              "      --disabled-fill-color: #AAA;\n",
              "      --disabled-bg-color: #DDD;\n",
              "  }\n",
              "\n",
              "  [theme=dark] .colab-df-quickchart {\n",
              "      --bg-color: #3B4455;\n",
              "      --fill-color: #D2E3FC;\n",
              "      --hover-bg-color: #434B5C;\n",
              "      --hover-fill-color: #FFFFFF;\n",
              "      --disabled-bg-color: #3B4455;\n",
              "      --disabled-fill-color: #666;\n",
              "  }\n",
              "\n",
              "  .colab-df-quickchart {\n",
              "    background-color: var(--bg-color);\n",
              "    border: none;\n",
              "    border-radius: 50%;\n",
              "    cursor: pointer;\n",
              "    display: none;\n",
              "    fill: var(--fill-color);\n",
              "    height: 32px;\n",
              "    padding: 0;\n",
              "    width: 32px;\n",
              "  }\n",
              "\n",
              "  .colab-df-quickchart:hover {\n",
              "    background-color: var(--hover-bg-color);\n",
              "    box-shadow: 0 1px 2px rgba(60, 64, 67, 0.3), 0 1px 3px 1px rgba(60, 64, 67, 0.15);\n",
              "    fill: var(--button-hover-fill-color);\n",
              "  }\n",
              "\n",
              "  .colab-df-quickchart-complete:disabled,\n",
              "  .colab-df-quickchart-complete:disabled:hover {\n",
              "    background-color: var(--disabled-bg-color);\n",
              "    fill: var(--disabled-fill-color);\n",
              "    box-shadow: none;\n",
              "  }\n",
              "\n",
              "  .colab-df-spinner {\n",
              "    border: 2px solid var(--fill-color);\n",
              "    border-color: transparent;\n",
              "    border-bottom-color: var(--fill-color);\n",
              "    animation:\n",
              "      spin 1s steps(1) infinite;\n",
              "  }\n",
              "\n",
              "  @keyframes spin {\n",
              "    0% {\n",
              "      border-color: transparent;\n",
              "      border-bottom-color: var(--fill-color);\n",
              "      border-left-color: var(--fill-color);\n",
              "    }\n",
              "    20% {\n",
              "      border-color: transparent;\n",
              "      border-left-color: var(--fill-color);\n",
              "      border-top-color: var(--fill-color);\n",
              "    }\n",
              "    30% {\n",
              "      border-color: transparent;\n",
              "      border-left-color: var(--fill-color);\n",
              "      border-top-color: var(--fill-color);\n",
              "      border-right-color: var(--fill-color);\n",
              "    }\n",
              "    40% {\n",
              "      border-color: transparent;\n",
              "      border-right-color: var(--fill-color);\n",
              "      border-top-color: var(--fill-color);\n",
              "    }\n",
              "    60% {\n",
              "      border-color: transparent;\n",
              "      border-right-color: var(--fill-color);\n",
              "    }\n",
              "    80% {\n",
              "      border-color: transparent;\n",
              "      border-right-color: var(--fill-color);\n",
              "      border-bottom-color: var(--fill-color);\n",
              "    }\n",
              "    90% {\n",
              "      border-color: transparent;\n",
              "      border-bottom-color: var(--fill-color);\n",
              "    }\n",
              "  }\n",
              "</style>\n",
              "\n",
              "  <script>\n",
              "    async function quickchart(key) {\n",
              "      const quickchartButtonEl =\n",
              "        document.querySelector('#' + key + ' button');\n",
              "      quickchartButtonEl.disabled = true;  // To prevent multiple clicks.\n",
              "      quickchartButtonEl.classList.add('colab-df-spinner');\n",
              "      try {\n",
              "        const charts = await google.colab.kernel.invokeFunction(\n",
              "            'suggestCharts', [key], {});\n",
              "      } catch (error) {\n",
              "        console.error('Error during call to suggestCharts:', error);\n",
              "      }\n",
              "      quickchartButtonEl.classList.remove('colab-df-spinner');\n",
              "      quickchartButtonEl.classList.add('colab-df-quickchart-complete');\n",
              "    }\n",
              "    (() => {\n",
              "      let quickchartButtonEl =\n",
              "        document.querySelector('#df-fe398f84-aaef-433a-8dfa-bec88d8135f8 button');\n",
              "      quickchartButtonEl.style.display =\n",
              "        google.colab.kernel.accessAllowed ? 'block' : 'none';\n",
              "    })();\n",
              "  </script>\n",
              "</div>\n",
              "    </div>\n",
              "  </div>\n"
            ],
            "application/vnd.google.colaboratory.intrinsic+json": {
              "type": "dataframe",
              "variable_name": "stress_by_gender",
              "summary": "{\n  \"name\": \"stress_by_gender\",\n  \"rows\": 3,\n  \"fields\": [\n    {\n      \"column\": \"growing_stress\",\n      \"properties\": {\n        \"dtype\": \"string\",\n        \"num_unique_values\": 3,\n        \"samples\": [\n          \"Maybe\",\n          \"No\",\n          \"Yes\"\n        ],\n        \"semantic_type\": \"\",\n        \"description\": \"\"\n      }\n    },\n    {\n      \"column\": \"Female\",\n      \"properties\": {\n        \"dtype\": \"number\",\n        \"std\": 2896,\n        \"min\": 15340,\n        \"max\": 20414,\n        \"num_unique_values\": 3,\n        \"samples\": [\n          15340,\n          15458,\n          20414\n        ],\n        \"semantic_type\": \"\",\n        \"description\": \"\"\n      }\n    },\n    {\n      \"column\": \"Male\",\n      \"properties\": {\n        \"dtype\": \"number\",\n        \"std\": 3778,\n        \"min\": 75625,\n        \"max\": 82885,\n        \"num_unique_values\": 3,\n        \"samples\": [\n          82885,\n          75625,\n          77440\n        ],\n        \"semantic_type\": \"\",\n        \"description\": \"\"\n      }\n    }\n  ]\n}"
            }
          },
          "metadata": {},
          "execution_count": 59
        }
      ],
      "source": [
        "stress_by_gender"
      ]
    },
    {
      "cell_type": "code",
      "execution_count": 60,
      "id": "71e30d98-771d-4721-92ce-6366fdd45ff2",
      "metadata": {
        "id": "71e30d98-771d-4721-92ce-6366fdd45ff2",
        "colab": {
          "base_uri": "https://localhost:8080/",
          "height": 621
        },
        "outputId": "89750432-15d8-4d44-a7d7-f3aa10db593b"
      },
      "outputs": [
        {
          "output_type": "stream",
          "name": "stderr",
          "text": [
            "<ipython-input-60-184fc7c93547>:4: UserWarning: The palette list has more values (8) than needed (3), which may not be intended.\n",
            "  sns.countplot(data=df,\n"
          ]
        },
        {
          "output_type": "execute_result",
          "data": {
            "text/plain": [
              "<matplotlib.legend.Legend at 0x7b3eb03f9600>"
            ]
          },
          "metadata": {},
          "execution_count": 60
        },
        {
          "output_type": "display_data",
          "data": {
            "text/plain": [
              "<Figure size 1600x800 with 1 Axes>"
            ],
            "image/png": "[encoded data removed]"
          },
          "metadata": {}
        }
      ],
      "source": [
        "plt.figure(figsize=(16, 8))\n",
        "colors = sns.color_palette(\"Accent\", 8)\n",
        "\n",
        "sns.countplot(data=df,\n",
        "              x='gender',\n",
        "              hue='growing_stress',\n",
        "              palette=colors)\n",
        "\n",
        "plt.title('Growing stress and gender', fontsize=20)\n",
        "plt.ylabel('Number of responses', fontsize=15)    #как увеличить значения шкалы по оси y?\n",
        "plt.xlabel('Gender', fontsize=15)\n",
        "\n",
        "bins=15\n",
        "plt.xticks(ha='right', fontsize=13)\n",
        "plt.legend(title='Growing Stress', title_fontsize='large', fontsize='large')"
      ]
    },
    {
      "cell_type": "code",
      "execution_count": 60,
      "id": "df846a49-edf1-4df2-a520-0fef53bd50fb",
      "metadata": {
        "id": "df846a49-edf1-4df2-a520-0fef53bd50fb"
      },
      "outputs": [],
      "source": []
    },
    {
      "cell_type": "code",
      "execution_count": 61,
      "id": "d5b7eb41-a00c-4e81-9089-3c21ef13aa67",
      "metadata": {
        "id": "d5b7eb41-a00c-4e81-9089-3c21ef13aa67",
        "colab": {
          "base_uri": "https://localhost:8080/",
          "height": 175
        },
        "outputId": "7b3aadac-42e1-4e4e-8222-2e628b272aee"
      },
      "outputs": [
        {
          "output_type": "execute_result",
          "data": {
            "text/plain": [
              "occupation      Business  Corporate  Housewife  Others  Student\n",
              "growing_stress                                                 \n",
              "Maybe              16747      16747      23741   18075    22915\n",
              "No                 13958      19905      22192   18680    16348\n",
              "Yes                18547      23505      19240   15138    21424"
            ],
            "text/html": [
              "\n",
              "  <div id=\"df-968aa9e2-bcc6-4b2a-87b0-de697b2ded04\" class=\"colab-df-container\">\n",
              "    <div>\n",
              "<style scoped>\n",
              "    .dataframe tbody tr th:only-of-type {\n",
              "        vertical-align: middle;\n",
              "    }\n",
              "\n",
              "    .dataframe tbody tr th {\n",
              "        vertical-align: top;\n",
              "    }\n",
              "\n",
              "    .dataframe thead th {\n",
              "        text-align: right;\n",
              "    }\n",
              "</style>\n",
              "<table border=\"1\" class=\"dataframe\">\n",
              "  <thead>\n",
              "    <tr style=\"text-align: right;\">\n",
              "      <th>occupation</th>\n",
              "      <th>Business</th>\n",
              "      <th>Corporate</th>\n",
              "      <th>Housewife</th>\n",
              "      <th>Others</th>\n",
              "      <th>Student</th>\n",
              "    </tr>\n",
              "    <tr>\n",
              "      <th>growing_stress</th>\n",
              "      <th></th>\n",
              "      <th></th>\n",
              "      <th></th>\n",
              "      <th></th>\n",
              "      <th></th>\n",
              "    </tr>\n",
              "  </thead>\n",
              "  <tbody>\n",
              "    <tr>\n",
              "      <th>Maybe</th>\n",
              "      <td>16747</td>\n",
              "      <td>16747</td>\n",
              "      <td>23741</td>\n",
              "      <td>18075</td>\n",
              "      <td>22915</td>\n",
              "    </tr>\n",
              "    <tr>\n",
              "      <th>No</th>\n",
              "      <td>13958</td>\n",
              "      <td>19905</td>\n",
              "      <td>22192</td>\n",
              "      <td>18680</td>\n",
              "      <td>16348</td>\n",
              "    </tr>\n",
              "    <tr>\n",
              "      <th>Yes</th>\n",
              "      <td>18547</td>\n",
              "      <td>23505</td>\n",
              "      <td>19240</td>\n",
              "      <td>15138</td>\n",
              "      <td>21424</td>\n",
              "    </tr>\n",
              "  </tbody>\n",
              "</table>\n",
              "</div>\n",
              "    <div class=\"colab-df-buttons\">\n",
              "\n",
              "  <div class=\"colab-df-container\">\n",
              "    <button class=\"colab-df-convert\" onclick=\"convertToInteractive('df-968aa9e2-bcc6-4b2a-87b0-de697b2ded04')\"\n",
              "            title=\"Convert this dataframe to an interactive table.\"\n",
              "            style=\"display:none;\">\n",
              "\n",
              "  <svg xmlns=\"http://www.w3.org/2000/svg\" height=\"24px\" viewBox=\"0 -960 960 960\">\n",
              "    <path d=\"M120-120v-720h720v720H120Zm60-500h600v-160H180v160Zm220 220h160v-160H400v160Zm0 220h160v-160H400v160ZM180-400h160v-160H180v160Zm440 0h160v-160H620v160ZM180-180h160v-160H180v160Zm440 0h160v-160H620v160Z\"/>\n",
              "  </svg>\n",
              "    </button>\n",
              "\n",
              "  <style>\n",
              "    .colab-df-container {\n",
              "      display:flex;\n",
              "      gap: 12px;\n",
              "    }\n",
              "\n",
              "    .colab-df-convert {\n",
              "      background-color: #E8F0FE;\n",
              "      border: none;\n",
              "      border-radius: 50%;\n",
              "      cursor: pointer;\n",
              "      display: none;\n",
              "      fill: #1967D2;\n",
              "      height: 32px;\n",
              "      padding: 0 0 0 0;\n",
              "      width: 32px;\n",
              "    }\n",
              "\n",
              "    .colab-df-convert:hover {\n",
              "      background-color: #E2EBFA;\n",
              "      box-shadow: 0px 1px 2px rgba(60, 64, 67, 0.3), 0px 1px 3px 1px rgba(60, 64, 67, 0.15);\n",
              "      fill: #174EA6;\n",
              "    }\n",
              "\n",
              "    .colab-df-buttons div {\n",
              "      margin-bottom: 4px;\n",
              "    }\n",
              "\n",
              "    [theme=dark] .colab-df-convert {\n",
              "      background-color: #3B4455;\n",
              "      fill: #D2E3FC;\n",
              "    }\n",
              "\n",
              "    [theme=dark] .colab-df-convert:hover {\n",
              "      background-color: #434B5C;\n",
              "      box-shadow: 0px 1px 3px 1px rgba(0, 0, 0, 0.15);\n",
              "      filter: drop-shadow(0px 1px 2px rgba(0, 0, 0, 0.3));\n",
              "      fill: #FFFFFF;\n",
              "    }\n",
              "  </style>\n",
              "\n",
              "    <script>\n",
              "      const buttonEl =\n",
              "        document.querySelector('#df-968aa9e2-bcc6-4b2a-87b0-de697b2ded04 button.colab-df-convert');\n",
              "      buttonEl.style.display =\n",
              "        google.colab.kernel.accessAllowed ? 'block' : 'none';\n",
              "\n",
              "      async function convertToInteractive(key) {\n",
              "        const element = document.querySelector('#df-968aa9e2-bcc6-4b2a-87b0-de697b2ded04');\n",
              "        const dataTable =\n",
              "          await google.colab.kernel.invokeFunction('convertToInteractive',\n",
              "                                                    [key], {});\n",
              "        if (!dataTable) return;\n",
              "\n",
              "        const docLinkHtml = 'Like what you see? Visit the ' +\n",
              "          '<a target=\"_blank\" href=https://colab.research.google.com/notebooks/data_table.ipynb>data table notebook</a>'\n",
              "          + ' to learn more about interactive tables.';\n",
              "        element.innerHTML = '';\n",
              "        dataTable['output_type'] = 'display_data';\n",
              "        await google.colab.output.renderOutput(dataTable, element);\n",
              "        const docLink = document.createElement('div');\n",
              "        docLink.innerHTML = docLinkHtml;\n",
              "        element.appendChild(docLink);\n",
              "      }\n",
              "    </script>\n",
              "  </div>\n",
              "\n",
              "\n",
              "<div id=\"df-06833baf-9567-4b22-9ab8-3291a97945da\">\n",
              "  <button class=\"colab-df-quickchart\" onclick=\"quickchart('df-06833baf-9567-4b22-9ab8-3291a97945da')\"\n",
              "            title=\"Suggest charts\"\n",
              "            style=\"display:none;\">\n",
              "\n",
              "<svg xmlns=\"http://www.w3.org/2000/svg\" height=\"24px\"viewBox=\"0 0 24 24\"\n",
              "     width=\"24px\">\n",
              "    <g>\n",
              "        <path d=\"M19 3H5c-1.1 0-2 .9-2 2v14c0 1.1.9 2 2 2h14c1.1 0 2-.9 2-2V5c0-1.1-.9-2-2-2zM9 17H7v-7h2v7zm4 0h-2V7h2v10zm4 0h-2v-4h2v4z\"/>\n",
              "    </g>\n",
              "</svg>\n",
              "  </button>\n",
              "\n",
              "<style>\n",
              "  .colab-df-quickchart {\n",
              "      --bg-color: #E8F0FE;\n",
              "      --fill-color: #1967D2;\n",
              "      --hover-bg-color: #E2EBFA;\n",
              "      --hover-fill-color: #174EA6;\n",
              "      --disabled-fill-color: #AAA;\n",
              "      --disabled-bg-color: #DDD;\n",
              "  }\n",
              "\n",
              "  [theme=dark] .colab-df-quickchart {\n",
              "      --bg-color: #3B4455;\n",
              "      --fill-color: #D2E3FC;\n",
              "      --hover-bg-color: #434B5C;\n",
              "      --hover-fill-color: #FFFFFF;\n",
              "      --disabled-bg-color: #3B4455;\n",
              "      --disabled-fill-color: #666;\n",
              "  }\n",
              "\n",
              "  .colab-df-quickchart {\n",
              "    background-color: var(--bg-color);\n",
              "    border: none;\n",
              "    border-radius: 50%;\n",
              "    cursor: pointer;\n",
              "    display: none;\n",
              "    fill: var(--fill-color);\n",
              "    height: 32px;\n",
              "    padding: 0;\n",
              "    width: 32px;\n",
              "  }\n",
              "\n",
              "  .colab-df-quickchart:hover {\n",
              "    background-color: var(--hover-bg-color);\n",
              "    box-shadow: 0 1px 2px rgba(60, 64, 67, 0.3), 0 1px 3px 1px rgba(60, 64, 67, 0.15);\n",
              "    fill: var(--button-hover-fill-color);\n",
              "  }\n",
              "\n",
              "  .colab-df-quickchart-complete:disabled,\n",
              "  .colab-df-quickchart-complete:disabled:hover {\n",
              "    background-color: var(--disabled-bg-color);\n",
              "    fill: var(--disabled-fill-color);\n",
              "    box-shadow: none;\n",
              "  }\n",
              "\n",
              "  .colab-df-spinner {\n",
              "    border: 2px solid var(--fill-color);\n",
              "    border-color: transparent;\n",
              "    border-bottom-color: var(--fill-color);\n",
              "    animation:\n",
              "      spin 1s steps(1) infinite;\n",
              "  }\n",
              "\n",
              "  @keyframes spin {\n",
              "    0% {\n",
              "      border-color: transparent;\n",
              "      border-bottom-color: var(--fill-color);\n",
              "      border-left-color: var(--fill-color);\n",
              "    }\n",
              "    20% {\n",
              "      border-color: transparent;\n",
              "      border-left-color: var(--fill-color);\n",
              "      border-top-color: var(--fill-color);\n",
              "    }\n",
              "    30% {\n",
              "      border-color: transparent;\n",
              "      border-left-color: var(--fill-color);\n",
              "      border-top-color: var(--fill-color);\n",
              "      border-right-color: var(--fill-color);\n",
              "    }\n",
              "    40% {\n",
              "      border-color: transparent;\n",
              "      border-right-color: var(--fill-color);\n",
              "      border-top-color: var(--fill-color);\n",
              "    }\n",
              "    60% {\n",
              "      border-color: transparent;\n",
              "      border-right-color: var(--fill-color);\n",
              "    }\n",
              "    80% {\n",
              "      border-color: transparent;\n",
              "      border-right-color: var(--fill-color);\n",
              "      border-bottom-color: var(--fill-color);\n",
              "    }\n",
              "    90% {\n",
              "      border-color: transparent;\n",
              "      border-bottom-color: var(--fill-color);\n",
              "    }\n",
              "  }\n",
              "</style>\n",
              "\n",
              "  <script>\n",
              "    async function quickchart(key) {\n",
              "      const quickchartButtonEl =\n",
              "        document.querySelector('#' + key + ' button');\n",
              "      quickchartButtonEl.disabled = true;  // To prevent multiple clicks.\n",
              "      quickchartButtonEl.classList.add('colab-df-spinner');\n",
              "      try {\n",
              "        const charts = await google.colab.kernel.invokeFunction(\n",
              "            'suggestCharts', [key], {});\n",
              "      } catch (error) {\n",
              "        console.error('Error during call to suggestCharts:', error);\n",
              "      }\n",
              "      quickchartButtonEl.classList.remove('colab-df-spinner');\n",
              "      quickchartButtonEl.classList.add('colab-df-quickchart-complete');\n",
              "    }\n",
              "    (() => {\n",
              "      let quickchartButtonEl =\n",
              "        document.querySelector('#df-06833baf-9567-4b22-9ab8-3291a97945da button');\n",
              "      quickchartButtonEl.style.display =\n",
              "        google.colab.kernel.accessAllowed ? 'block' : 'none';\n",
              "    })();\n",
              "  </script>\n",
              "</div>\n",
              "    </div>\n",
              "  </div>\n"
            ],
            "application/vnd.google.colaboratory.intrinsic+json": {
              "type": "dataframe",
              "variable_name": "stress_by_occupation",
              "summary": "{\n  \"name\": \"stress_by_occupation\",\n  \"rows\": 3,\n  \"fields\": [\n    {\n      \"column\": \"growing_stress\",\n      \"properties\": {\n        \"dtype\": \"string\",\n        \"num_unique_values\": 3,\n        \"samples\": [\n          \"Maybe\",\n          \"No\",\n          \"Yes\"\n        ],\n        \"semantic_type\": \"\",\n        \"description\": \"\"\n      }\n    },\n    {\n      \"column\": \"Business\",\n      \"properties\": {\n        \"dtype\": \"number\",\n        \"std\": 2312,\n        \"min\": 13958,\n        \"max\": 18547,\n        \"num_unique_values\": 3,\n        \"samples\": [\n          16747,\n          13958,\n          18547\n        ],\n        \"semantic_type\": \"\",\n        \"description\": \"\"\n      }\n    },\n    {\n      \"column\": \"Corporate\",\n      \"properties\": {\n        \"dtype\": \"number\",\n        \"std\": 3381,\n        \"min\": 16747,\n        \"max\": 23505,\n        \"num_unique_values\": 3,\n        \"samples\": [\n          16747,\n          19905,\n          23505\n        ],\n        \"semantic_type\": \"\",\n        \"description\": \"\"\n      }\n    },\n    {\n      \"column\": \"Housewife\",\n      \"properties\": {\n        \"dtype\": \"number\",\n        \"std\": 2286,\n        \"min\": 19240,\n        \"max\": 23741,\n        \"num_unique_values\": 3,\n        \"samples\": [\n          23741,\n          22192,\n          19240\n        ],\n        \"semantic_type\": \"\",\n        \"description\": \"\"\n      }\n    },\n    {\n      \"column\": \"Others\",\n      \"properties\": {\n        \"dtype\": \"number\",\n        \"std\": 1894,\n        \"min\": 15138,\n        \"max\": 18680,\n        \"num_unique_values\": 3,\n        \"samples\": [\n          18075,\n          18680,\n          15138\n        ],\n        \"semantic_type\": \"\",\n        \"description\": \"\"\n      }\n    },\n    {\n      \"column\": \"Student\",\n      \"properties\": {\n        \"dtype\": \"number\",\n        \"std\": 3442,\n        \"min\": 16348,\n        \"max\": 22915,\n        \"num_unique_values\": 3,\n        \"samples\": [\n          22915,\n          16348,\n          21424\n        ],\n        \"semantic_type\": \"\",\n        \"description\": \"\"\n      }\n    }\n  ]\n}"
            }
          },
          "metadata": {},
          "execution_count": 61
        }
      ],
      "source": [
        "stress_by_occupation"
      ]
    },
    {
      "cell_type": "code",
      "execution_count": 62,
      "id": "04148bb7-4176-460f-9287-7712cc8c22d9",
      "metadata": {
        "id": "04148bb7-4176-460f-9287-7712cc8c22d9",
        "colab": {
          "base_uri": "https://localhost:8080/",
          "height": 801
        },
        "outputId": "aa04a4f9-3898-4afa-dac7-7220b690d220"
      },
      "outputs": [
        {
          "output_type": "stream",
          "name": "stderr",
          "text": [
            "<ipython-input-62-1716055d549c>:4: UserWarning: The palette list has more values (8) than needed (3), which may not be intended.\n",
            "  sns.countplot(data=df,\n"
          ]
        },
        {
          "output_type": "error",
          "ename": "NameError",
          "evalue": "name 'ax' is not defined",
          "traceback": [
            "\u001b[0;31m---------------------------------------------------------------------------\u001b[0m",
            "\u001b[0;31mNameError\u001b[0m                                 Traceback (most recent call last)",
            "\u001b[0;32m<ipython-input-62-1716055d549c>\u001b[0m in \u001b[0;36m<cell line: 13>\u001b[0;34m()\u001b[0m\n\u001b[1;32m     11\u001b[0m \u001b[0mplt\u001b[0m\u001b[0;34m.\u001b[0m\u001b[0mxlabel\u001b[0m\u001b[0;34m(\u001b[0m\u001b[0;34m'Occupation'\u001b[0m\u001b[0;34m,\u001b[0m \u001b[0mfontsize\u001b[0m\u001b[0;34m=\u001b[0m\u001b[0;36m15\u001b[0m\u001b[0;34m)\u001b[0m\u001b[0;34m\u001b[0m\u001b[0;34m\u001b[0m\u001b[0m\n\u001b[1;32m     12\u001b[0m \u001b[0;34m\u001b[0m\u001b[0m\n\u001b[0;32m---> 13\u001b[0;31m \u001b[0max\u001b[0m\u001b[0;34m.\u001b[0m\u001b[0mset_ylim\u001b[0m\u001b[0;34m(\u001b[0m\u001b[0;36m0\u001b[0m\u001b[0;34m,\u001b[0m \u001b[0;36m1000\u001b[0m\u001b[0;34m)\u001b[0m\u001b[0;34m\u001b[0m\u001b[0;34m\u001b[0m\u001b[0m\n\u001b[0m\u001b[1;32m     14\u001b[0m \u001b[0;34m\u001b[0m\u001b[0m\n\u001b[1;32m     15\u001b[0m \u001b[0mbins\u001b[0m\u001b[0;34m=\u001b[0m\u001b[0;36m25\u001b[0m\u001b[0;34m\u001b[0m\u001b[0;34m\u001b[0m\u001b[0m\n",
            "\u001b[0;31mNameError\u001b[0m: name 'ax' is not defined"
          ]
        },
        {
          "output_type": "display_data",
          "data": {
            "text/plain": [
              "<Figure size 1600x800 with 1 Axes>"
            ],
            "image/png": "[encoded data removed]"
          },
          "metadata": {}
        }
      ],
      "source": [
        "plt.figure(figsize=(16, 8))\n",
        "colors = sns.color_palette(\"Set2\", 8)\n",
        "\n",
        "sns.countplot(data=df,\n",
        "              x='occupation',\n",
        "              hue='growing_stress',\n",
        "              palette=colors)\n",
        "\n",
        "plt.title('Growing stress and occupation', fontsize=20)\n",
        "plt.ylabel('Number of responses', fontsize=15)    #как увеличить значения шкалы по оси y?\n",
        "plt.xlabel('Occupation', fontsize=15)\n",
        "\n",
        "ax.set_ylim(0, 1000)\n",
        "\n",
        "bins=25\n",
        "plt.xticks(ha='right', fontsize=13)\n",
        "plt.legend(title='Growing Stress', title_fontsize='large', fontsize='large')"
      ]
    },
    {
      "cell_type": "code",
      "execution_count": null,
      "id": "501bbb8f-0bcd-4e60-ba8b-5e12b8786204",
      "metadata": {
        "id": "501bbb8f-0bcd-4e60-ba8b-5e12b8786204"
      },
      "outputs": [],
      "source": []
    },
    {
      "cell_type": "code",
      "execution_count": null,
      "id": "93a39327-a0cf-422b-99ae-3c2c5efc98c9",
      "metadata": {
        "id": "93a39327-a0cf-422b-99ae-3c2c5efc98c9"
      },
      "outputs": [],
      "source": [
        "stress_by_self_employed"
      ]
    },
    {
      "cell_type": "code",
      "execution_count": null,
      "id": "2a8fb05e-6e55-4f53-9f5f-08234315124c",
      "metadata": {
        "id": "2a8fb05e-6e55-4f53-9f5f-08234315124c"
      },
      "outputs": [],
      "source": [
        "plt.figure(figsize=(16, 8))\n",
        "colors = sns.color_palette(\"Set2\", 8)\n",
        "\n",
        "sns.countplot(data=df,\n",
        "              x='self_employed',\n",
        "              hue='growing_stress',\n",
        "              palette=colors)\n",
        "\n",
        "plt.title('Growing stress and self_employed', fontsize=20)\n",
        "plt.ylabel('Number of responses', fontsize=15)    #как увеличить значения шкалы по оси y?\n",
        "plt.xlabel('Self employed', fontsize=15)\n",
        "\n",
        "bins=25\n",
        "plt.xticks(ha='right', fontsize=13)\n",
        "plt.legend(title='Growing Stress', title_fontsize='large', fontsize='large')\n"
      ]
    },
    {
      "cell_type": "code",
      "execution_count": null,
      "id": "e1f8e562-f2c9-4296-b389-a27c2af6800a",
      "metadata": {
        "id": "e1f8e562-f2c9-4296-b389-a27c2af6800a"
      },
      "outputs": [],
      "source": []
    },
    {
      "cell_type": "code",
      "execution_count": null,
      "id": "06db91cd-043c-4373-a999-1c41dd4cfdf3",
      "metadata": {
        "scrolled": true,
        "id": "06db91cd-043c-4373-a999-1c41dd4cfdf3"
      },
      "outputs": [],
      "source": [
        "mood_by_treatment"
      ]
    },
    {
      "cell_type": "code",
      "execution_count": null,
      "id": "89918543-cc5c-4e58-ade9-0bbabf2b721a",
      "metadata": {
        "id": "89918543-cc5c-4e58-ade9-0bbabf2b721a"
      },
      "outputs": [],
      "source": [
        "plt.figure(figsize=(16, 8))\n",
        "colors = sns.color_palette(\"pastel\", 8)\n",
        "\n",
        "sns.countplot(data=df,\n",
        "              x='mood_swings',\n",
        "              hue='treatment',\n",
        "              palette=colors)\n",
        "\n",
        "plt.title('Mood swings and treatment', fontsize=20)\n",
        "plt.ylabel('Number of responses', fontsize=15)    #как увеличить значения шкалы по оси y?\n",
        "plt.xlabel('Mood swings', fontsize=15)\n",
        "\n",
        "bins=25\n",
        "plt.xticks(ha='right', fontsize=13)\n",
        "plt.legend(title='Treatment', title_fontsize='large', fontsize='large')"
      ]
    },
    {
      "cell_type": "code",
      "execution_count": null,
      "id": "d3147328-2c3e-4b3b-acb7-8fd7846f8745",
      "metadata": {
        "id": "d3147328-2c3e-4b3b-acb7-8fd7846f8745"
      },
      "outputs": [],
      "source": []
    },
    {
      "cell_type": "code",
      "source": [
        "growing_stress_by_treatment"
      ],
      "metadata": {
        "id": "n9EvChw6N4un"
      },
      "id": "n9EvChw6N4un",
      "execution_count": null,
      "outputs": []
    },
    {
      "cell_type": "code",
      "source": [
        "plt.figure(figsize=(16, 8))\n",
        "colors = sns.color_palette(\"pastel\", 8)\n",
        "\n",
        "sns.countplot(data=df,\n",
        "              x='growing_stress',\n",
        "              hue='treatment',\n",
        "              palette=colors)\n",
        "\n",
        "plt.title('Growing stress and treatment', fontsize=20)\n",
        "plt.ylabel('Number of responses', fontsize=15)    #как увеличить значения шкалы по оси y?\n",
        "plt.xlabel('Growing Stress', fontsize=15)\n",
        "\n",
        "bins=25\n",
        "plt.xticks(ha='right', fontsize=13)\n",
        "plt.legend(title='Treatment', title_fontsize='large', fontsize='large')"
      ],
      "metadata": {
        "id": "BVmIqhtTN9dw"
      },
      "id": "BVmIqhtTN9dw",
      "execution_count": null,
      "outputs": []
    },
    {
      "cell_type": "code",
      "source": [],
      "metadata": {
        "id": "SB10wS3NP-mW"
      },
      "id": "SB10wS3NP-mW",
      "execution_count": null,
      "outputs": []
    },
    {
      "cell_type": "code",
      "source": [],
      "metadata": {
        "id": "cMelRo33P-uH"
      },
      "id": "cMelRo33P-uH",
      "execution_count": null,
      "outputs": []
    },
    {
      "cell_type": "code",
      "source": [],
      "metadata": {
        "id": "9G6fpZBoP-wl"
      },
      "id": "9G6fpZBoP-wl",
      "execution_count": null,
      "outputs": []
    },
    {
      "cell_type": "code",
      "source": [],
      "metadata": {
        "id": "kPijyPE_P-zN"
      },
      "id": "kPijyPE_P-zN",
      "execution_count": null,
      "outputs": []
    }
  ],
  "metadata": {
    "kernelspec": {
      "display_name": "Python 3 (ipykernel)",
      "language": "python",
      "name": "python3"
    },
    "language_info": {
      "codemirror_mode": {
        "name": "ipython",
        "version": 3
      },
      "file_extension": ".py",
      "mimetype": "text/x-python",
      "name": "python",
      "nbconvert_exporter": "python",
      "pygments_lexer": "ipython3",
      "version": "3.12.0"
    },
    "colab": {
      "provenance": [],
      "include_colab_link": true
    }
  },
  "nbformat": 4,
  "nbformat_minor": 5
}